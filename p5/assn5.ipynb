{
 "cells": [
  {
   "cell_type": "markdown",
   "id": "532ce372",
   "metadata": {
    "id": "5ccb1d8a"
   },
   "source": [
    "# Intermediate Machine Learning: Assignment 5\n",
    "\n",
    "**Deadline**\n",
    "\n",
    "Assignment 5 is due Wednesday, December 6 by 11:59pm. Late work will not be accepted as per the course policies (see the Syllabus and Course policies on Canvas).\n",
    "\n",
    "Directly sharing answers is not okay, but discussing problems with the course staff or with other students is encouraged.\n",
    "\n",
    "You should start early so that you have time to get help if you're stuck. The drop-in office hours schedule can be found on Canvas. You can also post questions or start discussions on Ed Discussion. The assignment may look long at first glance, but the problems are broken up into steps that should help you to make steady progress.\n",
    "\n",
    "**Submission**\n",
    "\n",
    "Submit your assignment as a pdf file on Gradescope, and as a notebook (.ipynb) on Canvas. You can access Gradescope through Canvas on the left-side of the class home page. The problems in each homework assignment are numbered. Note: When submitting on Gradescope, please select the correct pages of your pdf that correspond to each problem. This will allow graders to more easily find your complete solution to each problem.\n",
    "\n",
    "To produce the .pdf, please do the following in order to preserve the cell structure of the notebook:\n",
    "\n",
    "Go to \"File\" at the top-left of your Jupyter Notebook\n",
    "Under \"Download as\", select \"HTML (.html)\"\n",
    "After the .html has downloaded, open it and then select \"File\" and \"Print\" (note you will not actually be printing)\n",
    "From the print window, select the option to save as a .pdf\n",
    "\n",
    "**Topics**\n",
    "\n",
    " * RNNs and GRUs\n",
    " * Transformers\n",
    "\n",
    "This assignment will also help to solidify your Python skills."
   ]
  },
  {
   "cell_type": "markdown",
   "id": "03dc5796",
   "metadata": {
    "id": "78f64b66"
   },
   "source": [
    "## Problem 1: Elephants Can Remember (25 points)\n",
    "\n"
   ]
  },
  {
   "cell_type": "markdown",
   "id": "7d390776",
   "metadata": {
    "id": "ba3663cd"
   },
   "source": [
    "![ECR](https://upload.wikimedia.org/wikipedia/en/e/e3/Elephants_can_Remember_First_Edition_Cover_1972.jpg) \n",
    "\n",
    "In this problem, we will work with \"vanilla\" Recurrent Neural Networks (RNNs) and Recurrent Neural Networks with Gated Recurrent Units (GRUs). The models in this part of the assignment will be character-based models, trained on an extract of the book [Elephants Can Remember](https://en.wikipedia.org/wiki/Elephants_Can_Remember) by Agatha Christie. To reduce the size of our vocabulary, the text is pre-processed by converting the letters to lower case and removing numbers. The code below shows some information about our training and test set. All the necessary files for this problem are available through Canvas, under the file name \"problem1_data\".\n"
   ]
  },
  {
   "cell_type": "code",
   "execution_count": 1,
   "id": "4808eef9",
   "metadata": {
    "id": "0804721c"
   },
   "outputs": [],
   "source": [
    "import numpy as np\n",
    "from tqdm import tqdm\n",
    "import tensorflow as tf\n",
    "import random\n",
    "  \n",
    "from keras.models import Sequential, model_from_json\n",
    "from keras.layers import Dense, Activation\n",
    "from keras.layers import GRU, SimpleRNN"
   ]
  },
  {
   "cell_type": "code",
   "execution_count": 2,
   "id": "936afdde",
   "metadata": {
    "id": "f93de082"
   },
   "outputs": [],
   "source": [
    "with open('problem1_data/Agatha_Christie_train.txt', 'r') as file:\n",
    "    train_text = file.read()\n",
    "    \n",
    "with open('problem1_data/Agatha_Christie_test.txt', 'r') as file:\n",
    "    test_text = file.read()\n",
    "\n",
    "vocabulary = sorted(list(set(train_text + test_text)))\n",
    "vocab_size = len(vocabulary)\n",
    "\n",
    "# Dictionaries to go from a character to index and vice versa\n",
    "char_to_indices = dict((c, i) for i, c in enumerate(vocabulary))\n",
    "indices_to_char = dict((i, c) for i, c in enumerate(vocabulary))"
   ]
  },
  {
   "cell_type": "code",
   "execution_count": 3,
   "id": "cd892ac9",
   "metadata": {
    "id": "7320ed64"
   },
   "outputs": [
    {
     "data": {
      "text/plain": [
       "'mrs. oliver looked at herself in the glass. she gave a brief, sideways look towards the clock on the mantelpiece, which she had some idea was twenty minutes slow. then she resumed her study of her coiffure. the trouble with mrs. oliver was--and she admitted it freely--that her styles of hairdressing were always being changed. she had tried almost everything in turn. a severe pompadour at one time, then a wind-swept style where you brushed back your locks to display an intellectual brow, at least'"
      ]
     },
     "execution_count": 3,
     "metadata": {},
     "output_type": "execute_result"
    }
   ],
   "source": [
    "# The first 500 characters of our training set\n",
    "train_text[0:500]"
   ]
  },
  {
   "cell_type": "code",
   "execution_count": 4,
   "id": "72a2fed8",
   "metadata": {
    "id": "3a50abac"
   },
   "outputs": [
    {
     "name": "stdout",
     "output_type": "stream",
     "text": [
      "The vocabulary contains 46 characters\n",
      "The training set contains 262436 characters\n",
      "The test set contains 7209 characters\n"
     ]
    }
   ],
   "source": [
    "print(\"The vocabulary contains\", vocab_size, \"characters\")\n",
    "print(\"The training set contains\", len(train_text) ,\"characters\")\n",
    "print(\"The test set contains\", len(test_text) ,\"characters\")"
   ]
  },
  {
   "cell_type": "markdown",
   "id": "66e4d85f",
   "metadata": {
    "id": "d02ce399"
   },
   "source": [
    "### Problem 1.1: The Diversity of Language Models"
   ]
  },
  {
   "cell_type": "markdown",
   "id": "a64a0f68",
   "metadata": {
    "id": "6951a417"
   },
   "source": [
    "Before jumping into coding, let's start with comparing the language models we will be using in this assigment."
   ]
  },
  {
   "cell_type": "markdown",
   "id": "ce0d0eb6",
   "metadata": {
    "id": "472741ad"
   },
   "source": [
    "1. Describe the differences between a Vanilla RNN and a GRU network. In your explanation, make sure you mention the issues with vanilla RNNs and how GRUs try to solve them."
   ]
  },
  {
   "cell_type": "markdown",
   "id": "5ec87e68-b741-41bf-9b6b-226f8dfc9e1f",
   "metadata": {},
   "source": [
    "### Answer to 1.1.1"
   ]
  },
  {
   "cell_type": "markdown",
   "id": "5e316e1f-e68e-4562-8784-33576ab9737a",
   "metadata": {
    "id": "06832930"
   },
   "source": [
    "A Vanilla RNN computes the hidden state $h_t$ by combining the input at time $t$ with the previous hidden state. In theory, $h_t$ should carry long-term information, but in practice, it often fails due to vanishing or exploding gradients (i.e., in backpropagation you repeatedly take the derivative w.r.t to $h_t$, without consider it's the contribution at timestep $t$ due to recurrence). \n",
    "\n",
    "GRUs address these issues using two gates: the update gate ($\\gamma^u$) and the reset gate ($\\gamma^r$). The update gate controls how much past information is preserved, mitigating vanishing gradients by directly passing information when $\\gamma^u=1$ (i.e., in backpropagation the gradient is not depedent on $\\gamma^u$ instead of $h_t$). The reset gate determines how much past information is ignored, allowing the network to reset memory selectively. These mechanisms enable GRUs to capture both short- and long-term dependencies effectively."
   ]
  },
  {
   "cell_type": "markdown",
   "id": "6b4d7520",
   "metadata": {
    "id": "61c45e86"
   },
   "source": [
    "2. Describe at least two advantages of a character based language model over a word based language model."
   ]
  },
  {
   "cell_type": "markdown",
   "id": "82c8c7eb-e665-4813-8a99-151461098d70",
   "metadata": {},
   "source": [
    "### Answer to 1.1.2"
   ]
  },
  {
   "cell_type": "markdown",
   "id": "5a507969-c341-4dbb-b5f9-82cfeec416f6",
   "metadata": {
    "id": "8b07db8a"
   },
   "source": [
    "1. Character-based models process sequences at the character level, avoiding the out-of-vocabulary issue in word-based models by recognizing all possible inputs.\n",
    "2. Character-based models capture subword patterns (e.g., prefixes, suffixes), enabling better handling of rare or unseen words and morphologically rich languages."
   ]
  },
  {
   "cell_type": "markdown",
   "id": "e362b6d2",
   "metadata": {
    "id": "ccac684e"
   },
   "source": [
    "### Problem 1.2: Generating Text with the Vanilla RNN"
   ]
  },
  {
   "cell_type": "markdown",
   "id": "52ce4312",
   "metadata": {
    "id": "85bdca8b"
   },
   "source": [
    "The code below loads in a pretrained vanilla RNN model with two layers. The model is set up exactly like in the lecture slides (with tanh activation layers in the recurrent layers) with the addition of biases (intercepts) in every layer (i.e. the recurrent layer and the dense layer). The training process consisted of 30 epochs."
   ]
  },
  {
   "cell_type": "code",
   "execution_count": 87,
   "id": "847dc334",
   "metadata": {
    "id": "45bd5d3b"
   },
   "outputs": [],
   "source": [
    "# load json and create model\n",
    "json_file = open('problem1_data/RNN_model.json', 'r')\n",
    "loaded_model_json = json_file.read()\n",
    "json_file.close()\n",
    "\n",
    "RNN_model = model_from_json(loaded_model_json)\n",
    "RNN_model.load_weights(\"problem1_data/RNN_model.h5\")"
   ]
  },
  {
   "cell_type": "code",
   "execution_count": 88,
   "id": "022b37e2",
   "metadata": {
    "id": "648273ea"
   },
   "outputs": [
    {
     "name": "stdout",
     "output_type": "stream",
     "text": [
      "Model: \"sequential\"\n",
      "_________________________________________________________________\n",
      " Layer (type)                Output Shape              Param #   \n",
      "=================================================================\n",
      " Vanilla_RNN_1 (SimpleRNN)   (None, 100, 128)          22144     \n",
      "                                                                 \n",
      " Vanilla_RNN_2 (SimpleRNN)   (None, 64)                12352     \n",
      "                                                                 \n",
      " Dense_layer (Dense)         (None, 44)                2860      \n",
      "                                                                 \n",
      " Softmax_layer (Activation)  (None, 44)                0         \n",
      "                                                                 \n",
      "=================================================================\n",
      "Total params: 37,356\n",
      "Trainable params: 37,356\n",
      "Non-trainable params: 0\n",
      "_________________________________________________________________\n"
     ]
    }
   ],
   "source": [
    "# load in the weights and show summary\n",
    "weights_RNN = RNN_model.get_weights()\n",
    "RNN_model.summary()"
   ]
  },
  {
   "cell_type": "markdown",
   "id": "5c1e3160",
   "metadata": {
    "id": "a4bcccd8"
   },
   "source": [
    "Finish the following function that uses a vanilla RNN architecture to generate text, given the weights of the RNN model, a text prompt, and the number of characters to return. The function should be completed by **only using numpy functions**. Use your knowledge of how every weight plays its role in the RNN architecture. Do not worry about the weight extraction part, this is already provided for you. The weight matrix $W_{xh1}$, for example, denotes the weight matrix to go from the input x to the first hidden state layer h1. The hidden states $h_1$ and $h_2$ are initialized to a vector of zeros. \n",
    "\n",
    "The embedding of each character has to be done by a one-hot encoding, where you will need the dictionaries defined in the introduction to go from a character to an index position."
   ]
  },
  {
   "cell_type": "code",
   "execution_count": 103,
   "id": "3c2408bb",
   "metadata": {
    "id": "736ff633"
   },
   "outputs": [],
   "source": [
    "def sample_text_RNN(weights, prompt, N):\n",
    "    '''\n",
    "    Uses a pretrained RNN to generate text, starting from a prompt, \n",
    "    only using the weights and numpy commands\n",
    "            Parameters:\n",
    "                    weights (list): Weights of the pretrained RNN model\n",
    "                    prompt (string): Start of generated sentence\n",
    "                    N (int): Length of output sentence (including prompt)\n",
    "            Returns:\n",
    "                    output_sentence (string): Text generated by RNN\n",
    "    '''\n",
    "    # Extracting weights and biases\n",
    "    # Dimensions of matrices are same format as lecture slides\n",
    "\n",
    "    # First Recurrent Layer \n",
    "    W_xh1 = weights[0].T \n",
    "    W_h1h1 = weights[1].T \n",
    "    b_h1 = np.expand_dims(weights[2], axis=1)\n",
    "\n",
    "    # Second Recurrent Layer\n",
    "    W_h1h2 = weights[3].T\n",
    "    W_h2h2 = weights[4].T\n",
    "    b_h2 = np.expand_dims(weights[5], axis=1)\n",
    "\n",
    "    # Linear (dense) layer\n",
    "    W_h2y = weights[6].T\n",
    "    b_y = np.expand_dims(weights[7], axis=1)\n",
    "    \n",
    "    # Initiate the hidden states\n",
    "    h1 = np.zeros((W_h1h1.shape[0], 1))\n",
    "    h2 = np.zeros((W_h2h2.shape[0], 1))\n",
    "    \n",
    "    # -----------------------------------------------\n",
    "    # Your code starts here\n",
    "    output_sentence = prompt\n",
    "    \n",
    "    # Process the prompt to initialize hidden states\n",
    "    for char in prompt:\n",
    "        # Convert the character to one-hot encoding\n",
    "        # x = np.zeros((len(char_to_indices), 1))\n",
    "        x = np.zeros((44, 1))\n",
    "        x[char_to_indices[char]] = 1\n",
    "\n",
    "        # Calculate h1 and h2\n",
    "        h1 = np.tanh(np.dot(W_h1h1, h1) + np.dot(W_xh1, x) + b_h1)\n",
    "        h2 = np.tanh(np.dot(W_h2h2, h2) + np.dot(W_h1h2, h1) + b_h2)\n",
    "    \n",
    "    # Convert last character in prompt to one-hot encode\n",
    "    # x = np.zeros((len(char_to_indices), 1))\n",
    "    x = np.zeros((44, 1))\n",
    "    x[char_to_indices[prompt[-1]]] = 1\n",
    "    \n",
    "    # Predict next character for N - len(prompt) steps\n",
    "    for _ in range(N - len(prompt)):\n",
    "        # Calculate h1 and h2\n",
    "        h1 = np.tanh(np.dot(W_h1h1, h1) + np.dot(W_xh1, x) + b_h1)\n",
    "        h2 = np.tanh(np.dot(W_h2h2, h2) + np.dot(W_h1h2, h1) + b_h2)\n",
    "        \n",
    "        # Calculate probability\n",
    "        y = np.dot(W_h2y, h2) + b_y\n",
    "        prob = np.exp(y - np.max(y)) / np.sum(np.exp(y - np.max(y)))\n",
    "\n",
    "        # Sample next character\n",
    "        next_char_index = np.random.choice(len(prob), p=prob.ravel())\n",
    "        next_char = indices_to_char[next_char_index]\n",
    "        \n",
    "        # Add character to output_sentence\n",
    "        output_sentence += next_char\n",
    "        \n",
    "        # Update last character\n",
    "        # x = np.zeros((len(char_to_indices), 1))\n",
    "        x = np.zeros((44, 1))\n",
    "        x[next_char_index] = 1\n",
    "        \n",
    "    return output_sentence"
   ]
  },
  {
   "cell_type": "markdown",
   "id": "47fb8ad8-ca13-41c8-be13-e2fd0084ebf5",
   "metadata": {},
   "source": [
    "### NOTE: Without changing the code or files, the length of vocabulary size is 46, whereas the model's vocabulary size is 44. Thus, this create a dimension mismatch when I do _x = np.zeros((len(char_to_indices), 1))_. I am not sure if this is a problem on my end or the homework provider, so to fix it I just hardcoded dimension 44 in _x = np.zeros((44, 1))_. The last two characters of the vocab are \"”\" and \"€\", so I believe this is okay. I will do this going forward for all the implementation code"
   ]
  },
  {
   "cell_type": "code",
   "execution_count": 104,
   "id": "2c7d2119-b72f-44cf-93c5-fb572e79e3a4",
   "metadata": {},
   "outputs": [
    {
     "data": {
      "text/plain": [
       "{' ': 0,\n",
       " '!': 1,\n",
       " '\"': 2,\n",
       " '&': 3,\n",
       " \"'\": 4,\n",
       " '(': 5,\n",
       " ')': 6,\n",
       " ',': 7,\n",
       " '-': 8,\n",
       " '.': 9,\n",
       " '/': 10,\n",
       " ':': 11,\n",
       " ';': 12,\n",
       " '?': 13,\n",
       " '[': 14,\n",
       " ']': 15,\n",
       " '^': 16,\n",
       " 'a': 17,\n",
       " 'b': 18,\n",
       " 'c': 19,\n",
       " 'd': 20,\n",
       " 'e': 21,\n",
       " 'f': 22,\n",
       " 'g': 23,\n",
       " 'h': 24,\n",
       " 'i': 25,\n",
       " 'j': 26,\n",
       " 'k': 27,\n",
       " 'l': 28,\n",
       " 'm': 29,\n",
       " 'n': 30,\n",
       " 'o': 31,\n",
       " 'p': 32,\n",
       " 'q': 33,\n",
       " 'r': 34,\n",
       " 's': 35,\n",
       " 't': 36,\n",
       " 'u': 37,\n",
       " 'v': 38,\n",
       " 'w': 39,\n",
       " 'x': 40,\n",
       " 'y': 41,\n",
       " 'z': 42,\n",
       " 'â': 43,\n",
       " '”': 44,\n",
       " '€': 45}"
      ]
     },
     "execution_count": 104,
     "metadata": {},
     "output_type": "execute_result"
    }
   ],
   "source": [
    "# For reference as to what I see\n",
    "char_to_indices"
   ]
  },
  {
   "cell_type": "markdown",
   "id": "12109704",
   "metadata": {
    "id": "cfc7420f"
   },
   "source": [
    "Test out your function by running the following code cell. Use it as a sanity check that your code is working. The generated text should not be perfect English, but at least you should be able to recognize some words."
   ]
  },
  {
   "cell_type": "code",
   "execution_count": 105,
   "id": "c8daafb8",
   "metadata": {
    "id": "12458ad0"
   },
   "outputs": [
    {
     "name": "stdout",
     "output_type": "stream",
     "text": [
      "mrs. oliver looked at herself in the glass. any fain, he tearser the netmen there will, mostirould deled me. i exvecaptins. chited lejprothere coustny dran it a mather, it's not a lo know. the ladion sad was fir. \"works it.\" \"i'm auned, seapes mother they nate that.\" \"oh, yes. take there is that time of har very one of these, ceeln and wrot the idealh,\" something i have year of wherced schaat that to ravery wanlw. \"mel the beas.\" \"a rimot? spersure. was manough nothing. chised saint knew why feels, where gyon's ked sometins. om somewhy recedser, as easind. ohith, came malted about say tok so ist. the litthim poirut.\" but it the course, mething well, you was what like afforcliably aritticully a liston'he tiding.\" \"abseally was him to it agsionle's quee to have it if and steeny right.\" \"whing dain was bean,\" happengething. there, \"whell you, what had try, i very dod was stauts for did you my oad grsoindion what sis in coment aling about he. but sort ot anestion chilln, and come have poir\n"
     ]
    }
   ],
   "source": [
    "print(sample_text_RNN(weights_RNN, \n",
    "                      'mrs. oliver looked at herself in the glass.', \n",
    "                      1000))"
   ]
  },
  {
   "cell_type": "markdown",
   "id": "4dbb226c",
   "metadata": {
    "id": "c950eae8"
   },
   "source": [
    "### Problem 1.3: Generating Text with the GRU"
   ]
  },
  {
   "cell_type": "markdown",
   "id": "43dc4860",
   "metadata": {
    "id": "1dd93ee7"
   },
   "source": [
    "The code below loads in a pretrained GRU model. The model is set up exactly like in the lecture slides (with sigmoid activation layers for the gates and tanh activation layers in the recurrent layer). The model is trained for only 10 epochs."
   ]
  },
  {
   "cell_type": "code",
   "execution_count": 106,
   "id": "493c9c05",
   "metadata": {
    "id": "82291909"
   },
   "outputs": [],
   "source": [
    "# load json and create model\n",
    "json_file = open('problem1_data/GRU_model.json', 'r')\n",
    "loaded_model_json = json_file.read()\n",
    "json_file.close()\n",
    "\n",
    "GRU_model = model_from_json(loaded_model_json)\n",
    "GRU_model.load_weights(\"problem1_data/GRU_model.h5\")"
   ]
  },
  {
   "cell_type": "code",
   "execution_count": 107,
   "id": "9557ce05",
   "metadata": {
    "id": "738974b5"
   },
   "outputs": [
    {
     "name": "stdout",
     "output_type": "stream",
     "text": [
      "Model: \"sequential\"\n",
      "_________________________________________________________________\n",
      " Layer (type)                Output Shape              Param #   \n",
      "=================================================================\n",
      " gru (GRU)                   (None, 512)               857088    \n",
      "                                                                 \n",
      " dense (Dense)               (None, 44)                22572     \n",
      "                                                                 \n",
      " activation (Activation)     (None, 44)                0         \n",
      "                                                                 \n",
      "=================================================================\n",
      "Total params: 879,660\n",
      "Trainable params: 879,660\n",
      "Non-trainable params: 0\n",
      "_________________________________________________________________\n"
     ]
    }
   ],
   "source": [
    "# load in the weights and show summary\n",
    "weights_GRU = GRU_model.get_weights()\n",
    "GRU_model.summary()"
   ]
  },
  {
   "cell_type": "markdown",
   "id": "80319480",
   "metadata": {
    "id": "cad5b34f"
   },
   "source": [
    "Finish the following function that uses a GRU architecture to generate text, given the weights of the GRU model, a text prompt, and the number of characters to return. The function should be completed by **only using numpy functions**. Use your knowledge of how every weight plays its role in the GRU architecture. Do not worry about the weight extraction part, this is already provided for you. The hidden state $h$ is initialized to a vector of zeros. \n",
    "\n",
    "The embedding of each character has to be done by a one-hot encoding, where you will need the dictionaries defined in the introduction to go from a character to an index position.\n",
    "\n",
    "Note: a slightly different version of the GRU is used, where the candidate state $c_t$ is calculated as:\n",
    "\n",
    "$$\n",
    "c_t = \\text{tanh} \\left(W_{hx} x_t \\ + \\ \\Gamma_t^r \\odot (W_{hh} h_{t-1}) \\ + \\ b_h \\right)\n",
    "$$"
   ]
  },
  {
   "cell_type": "code",
   "execution_count": 108,
   "id": "af754987",
   "metadata": {
    "id": "259c1d40"
   },
   "outputs": [],
   "source": [
    "# Helper function\n",
    "def sigmoid(z):\n",
    "    return 1 / (1 + np.exp(-z))\n",
    "\n",
    "def sample_text_GRU(weights, prompt, N):\n",
    "    '''\n",
    "    Uses a pretrained GRU to generate text, starting from a prompt,\n",
    "    only using the weights and numpy commands\n",
    "            Parameters:\n",
    "                    weights (list): Weights of the pretrained GRU model\n",
    "                    prompt (string): Start of generated sentence\n",
    "                    N (int): Total length of output sentence\n",
    "            Returns:\n",
    "                    output_sentence (string): Text generated by GRU\n",
    "    '''\n",
    "    # Extracting weights and biases\n",
    "    # Dimensions of matrices are same format as lecture slides\n",
    "    \n",
    "    # GRU Layer \n",
    "    W_ux, W_rx, W_hx = np.split(weights[0].T, 3, axis = 0)\n",
    "    W_uh, W_rh, W_hh = np.split(weights[1].T, 3, axis = 0)\n",
    "\n",
    "    bias = np.sum(weights[2], axis=0)\n",
    "    b_u, b_r, b_h = np.split(np.expand_dims(bias, axis=1), 3)\n",
    "\n",
    "    # Linear (dense) layer\n",
    "    W_y = weights[3].T\n",
    "    b_y = np.expand_dims(weights[4], axis=1)\n",
    "    \n",
    "    # Initiate hidden state\n",
    "    h = np.zeros((W_hh.shape[0], 1))\n",
    "    \n",
    "    # -----------------------------------------------\n",
    "    # Your code starts here\n",
    "    output_sentence = prompt\n",
    "    \n",
    "    # Process the prompt to initialize the hidden state\n",
    "    for char in prompt:\n",
    "        # Convert the character to one-hot encoding\n",
    "        # x = np.zeros((len(char_to_indices), 1))\n",
    "        x = np.zeros((44, 1))\n",
    "        x[char_to_indices[char]] = 1\n",
    "\n",
    "        # Calculate GRU gates and update hidden state\n",
    "        gamma_u = sigmoid(np.dot(W_ux, x) + np.dot(W_uh, h) + b_u)\n",
    "        gamma_r = sigmoid(np.dot(W_rx, x) + np.dot(W_rh, h) + b_r)\n",
    "        c_t = np.tanh(np.dot(W_hx, x) + np.multiply(gamma_r, np.dot(W_hh, h)) + b_h)\n",
    "        h = np.multiply((1 - gamma_u), c_t) + np.multiply(gamma_u, h)\n",
    "    \n",
    "    # Convert last character in prompt to one-hot encode\n",
    "    # x = np.zeros((len(char_to_indices), 1))\n",
    "    x = np.zeros((44, 1))\n",
    "    x[char_to_indices[prompt[-1]]] = 1\n",
    "    \n",
    "    # Predict next character for N - len(prompt) steps\n",
    "    for _ in range(N - len(prompt)):\n",
    "        # Calculate gamma_u and gamma_r\n",
    "        gamma_u = sigmoid(np.dot(W_ux, x) + np.dot(W_uh, h) + b_u)\n",
    "        gamma_r = sigmoid(np.dot(W_rx, x) + np.dot(W_rh, h) + b_r)\n",
    "        \n",
    "        # Calculate c_t\n",
    "        c_t = np.tanh(np.dot(W_hx, x) + np.multiply(gamma_r, np.dot(W_hh, h)) + b_h)\n",
    "        \n",
    "        # Calculate h\n",
    "        h = np.multiply((1 - gamma_u), c_t) + np.multiply(gamma_u, h)\n",
    "        \n",
    "        # Calculate probability\n",
    "        y = np.dot(W_y, h) + b_y\n",
    "        prob = np.exp(y - np.max(y)) / np.sum(np.exp(y - np.max(y)))\n",
    "        \n",
    "        # Sample next character\n",
    "        next_char_index = np.random.choice(len(prob), p=prob.ravel())\n",
    "        next_char = indices_to_char[next_char_index]\n",
    "        \n",
    "        # Add character to output_sentence\n",
    "        output_sentence += next_char\n",
    "        \n",
    "        # Update last character\n",
    "        # x = np.zeros((len(char_to_indices), 1))\n",
    "        x = np.zeros((44, 1))\n",
    "        x[next_char_index] = 1\n",
    "        \n",
    "    return output_sentence"
   ]
  },
  {
   "cell_type": "markdown",
   "id": "486c53c4",
   "metadata": {
    "id": "117fdc8f"
   },
   "source": [
    "Test out your function by running the following code cell. Use it as a sanity check that your code is working. The generated text should not be perfect English, but at least you should be able to recognize some words."
   ]
  },
  {
   "cell_type": "code",
   "execution_count": 109,
   "id": "fe03acfe",
   "metadata": {
    "id": "3fc14584"
   },
   "outputs": [
    {
     "name": "stdout",
     "output_type": "stream",
     "text": [
      "mrs. oliver looked at herself in the glass. mrs. oliver and was mrs. ouite ferent hose of it as the time or sometimes. there were ently chiphed at a ntwo later a domother because i was a tull to meen the matter to her or help it oition arouse, i see, i an for a time of a deal ar if a had and t an i was she when or or anyir the atet a time. and lod eestake and as a well which he all strying to arrest after the wome in one been inem the botite fith pelia. the home to were a has tot tee trous all that. and the pase be ars ather that she houpe tald might the dight te to have read your dother, a dod the siling to really a litela to came to loling it if you tell you at liase i rother tho get she woll the mother this it someit inti a can lott a morting the sors that shatisine a dryen tee head his atfiction and i think. that had well that i am so they thought peicoun the oot to see mr. eld wh theredea same tire well here a stros it mort, i notilote with see you they were to you?\" they were t a\n"
     ]
    }
   ],
   "source": [
    "print(sample_text_GRU(weights_GRU, \n",
    "                      'mrs. oliver looked at herself in the glass.',\n",
    "                      1000))"
   ]
  },
  {
   "cell_type": "markdown",
   "id": "8d782698",
   "metadata": {
    "id": "6a35ba68"
   },
   "source": [
    "### Problem 1.4: Can Elephants Remember Better?"
   ]
  },
  {
   "cell_type": "markdown",
   "id": "84ca65ce",
   "metadata": {
    "id": "09cd85c4"
   },
   "source": [
    "Perplexity is a measure to quantify how \"good\" a language model $M$ is, based on a test (or validation) set. The perplexity on a sequence $s$ of characters $a_i$ of size $N$ is defined as:\n",
    "\n",
    "$$\n",
    "\\text{Perplexity}(M) = M(s)^{(-1/N)} = \\left\\{p(a_1, \\ldots, a_N)\\right\\}^{(-1/N)} = \\left\\{p(a_1) \\ p(a_2|a_1) \\ \\ldots \\ p(a_N|a_1, \\ldots, a_{N-1})\\right\\}^{(-1/N)}\n",
    "$$\n",
    "\n",
    "> The intuition behind this metric is that, if a model assigns a high probability to a test set, it is not surprised to see it (not perplexed by it), which means the model $M$ has a good understanding of how the language works. Hence, a good model has, in theory, a lower perplexity. The exponent $(-1/N)$ in the formula is just a normalizing strategy (geometric average), because adding more characters to a test set would otherwise introduce more uncertainty (i.e. larger test sets would have lower probability). So by introducing the geometric average, we have a metric that is independent of the size of the test set.\n",
    "\n",
    "When calculating the perplexity, it is important to know that taking the product of a bunch of probabilities will most likely lead to a zero value by the computer. To prevent this, make use of a log-transformation:\n",
    "\n",
    "$$\n",
    "\\text{Log-Perplexity}(M) = -\\frac{1}{N} log\\left\\{p(a_1, \\ldots, a_N)\\right\\} = -\\frac{1}{N} \\left\\{log \\ p(a_1) + \\ log \\ p(a_2|a_1) + \\ \\ldots \\ + log \\  p(a_N|a_1, \\ldots, a_{N-1})\\right\\} \n",
    "$$\n",
    "\n",
    "Don't forget to go back to the normal perplexity after this transformation. "
   ]
  },
  {
   "cell_type": "markdown",
   "id": "e76c378b",
   "metadata": {
    "id": "709c6d4e"
   },
   "source": [
    "1. Before calculating the perplexity of a test sequence, start with comparing the outputs of 2.2 and 2.3. Do you see any differences in the generated text of the Vanilla RNN model and the GRU model? Rerun your functions a couple of times (because of stochasticity) and use different prompts. Briefly discuss why you would expect (or not expect) certain differences."
   ]
  },
  {
   "cell_type": "markdown",
   "id": "5964ff28-a1ef-4b78-a94f-5b4093c1af06",
   "metadata": {},
   "source": [
    "### Answer to 1.4.1"
   ]
  },
  {
   "cell_type": "markdown",
   "id": "6e157e2b-872d-4b66-99ff-fbf39223b487",
   "metadata": {
    "id": "3ccf8083"
   },
   "source": [
    "The generated text from the Vanilla RNN is less coherent, with frequent nonsensical words, awkward phrasing, and inconsistent grammar, such as \"necmulbedreats soors\" and \"you what octidnain.\" It struggles to maintain context and deviates from the prompt quickly, reflecting its difficulty in capturing long-term dependencies due to the vanishing gradient problem. In contrast, the GRU produces text that is more structured and contextually aligned with the prompt, maintaining better narrative flow. This improvement stems from the GRU's gating mechanisms, which effectively preserve relevant information and manage dependencies across long sequences. However, the GRU also suffers from nonsensical words, awkward phrasing, and inconsistent grammar, albeit occurring later in the passage due to its improved ability to contextualize over longer dependencies."
   ]
  },
  {
   "cell_type": "markdown",
   "id": "965e2bfd",
   "metadata": {
    "id": "5c9a5bf5"
   },
   "source": [
    "2. Calculate the perplexity of each language model by using test_text, an unseen extract of the book. Choose the prompt as the first $m$ letters of the test set, where $m$ is a parameter that you can choose yourself. You should be able to reuse the majority of your previous code in this calculation. Discuss your results at the end."
   ]
  },
  {
   "cell_type": "markdown",
   "id": "a4531b69-ef79-4cd8-8d26-71a5ea9177b7",
   "metadata": {},
   "source": [
    "### Answer to 1.4.2"
   ]
  },
  {
   "cell_type": "code",
   "execution_count": 110,
   "id": "a0e1a325-1cf3-4cf7-9d8f-fa1628573608",
   "metadata": {},
   "outputs": [],
   "source": [
    "def get_perplex_rnn(weights, prompt, test_sequence):\n",
    "    # Extract weights and biases\n",
    "    W_xh1 = weights[0].T\n",
    "    W_h1h1 = weights[1].T\n",
    "    b_h1 = np.expand_dims(weights[2], axis=1)\n",
    "    W_h1h2 = weights[3].T\n",
    "    W_h2h2 = weights[4].T\n",
    "    b_h2 = np.expand_dims(weights[5], axis=1)\n",
    "    W_h2y = weights[6].T\n",
    "    b_y = np.expand_dims(weights[7], axis=1)\n",
    "    \n",
    "    # Initialize hidden states\n",
    "    h1 = np.zeros((W_h1h1.shape[0], 1))\n",
    "    h2 = np.zeros((W_h2h2.shape[0], 1))\n",
    "\n",
    "    # Process the prompt to initialize hidden states\n",
    "    for char in prompt:\n",
    "        x = np.zeros((44, 1))\n",
    "        x[char_to_indices[char]] = 1\n",
    "        h1 = np.tanh(np.dot(W_h1h1, h1) + np.dot(W_xh1, x) + b_h1)\n",
    "        h2 = np.tanh(np.dot(W_h2h2, h2) + np.dot(W_h1h2, h1) + b_h2)\n",
    "\n",
    "    # Store log probabilities for the test sequence\n",
    "    log_prob_sum = 0\n",
    "    N = len(test_sequence)\n",
    "\n",
    "    # Iterate through the test sequence\n",
    "    for char in test_sequence:\n",
    "        # Compute hidden states\n",
    "        x = np.zeros((44, 1))\n",
    "        x[char_to_indices[char]] = 1\n",
    "        h1 = np.tanh(np.dot(W_h1h1, h1) + np.dot(W_xh1, x) + b_h1)\n",
    "        h2 = np.tanh(np.dot(W_h2h2, h2) + np.dot(W_h1h2, h1) + b_h2)\n",
    "\n",
    "        # Compute output probabilities\n",
    "        y = np.dot(W_h2y, h2) + b_y\n",
    "        prob = np.exp(y - np.max(y)) / np.sum(np.exp(y - np.max(y)))\n",
    "\n",
    "        # Update the log probability sum\n",
    "        log_prob_sum += np.log(prob[char_to_indices[char]])\n",
    "\n",
    "    # Compute log perplexity\n",
    "    log_perplexity = -log_prob_sum / N\n",
    "\n",
    "    # Convert back to perplexity\n",
    "    perplexity = np.exp(log_perplexity)\n",
    "    \n",
    "    return perplexity"
   ]
  },
  {
   "cell_type": "code",
   "execution_count": 111,
   "id": "ca2494b9-3060-4fed-8638-ede4df892a67",
   "metadata": {},
   "outputs": [],
   "source": [
    "def get_perplex_gru(weights, prompt, test_sequence):\n",
    "    # Extract weights and biases\n",
    "    W_ux, W_rx, W_hx = np.split(weights[0].T, 3, axis=0)\n",
    "    W_uh, W_rh, W_hh = np.split(weights[1].T, 3, axis=0)\n",
    "    bias = np.sum(weights[2], axis=0)\n",
    "    b_u, b_r, b_h = np.split(np.expand_dims(bias, axis=1), 3)\n",
    "    W_y = weights[3].T\n",
    "    b_y = np.expand_dims(weights[4], axis=1)\n",
    "    \n",
    "    # Initialize hidden state\n",
    "    h = np.zeros((W_hh.shape[0], 1))\n",
    "\n",
    "    # Process the prompt to initialize the hidden state\n",
    "    for char in prompt:\n",
    "        x = np.zeros((44, 1))\n",
    "        x[char_to_indices[char]] = 1\n",
    "        gamma_u = sigmoid(np.dot(W_ux, x) + np.dot(W_uh, h) + b_u)\n",
    "        gamma_r = sigmoid(np.dot(W_rx, x) + np.dot(W_rh, h) + b_r)\n",
    "        c_t = np.tanh(np.dot(W_hx, x) + np.multiply(gamma_r, np.dot(W_hh, h)) + b_h)\n",
    "        h = np.multiply((1 - gamma_u), c_t) + np.multiply(gamma_u, h)\n",
    "\n",
    "    # Initialize log probability sum for the test sequence\n",
    "    log_prob_sum = 0\n",
    "    N = len(test_sequence)\n",
    "\n",
    "    # Process the test sequence\n",
    "    for char in test_sequence:\n",
    "        # Compute GRU gates and update hidden state\n",
    "        x = np.zeros((44, 1))\n",
    "        x[char_to_indices[char]] = 1\n",
    "        gamma_u = sigmoid(np.dot(W_ux, x) + np.dot(W_uh, h) + b_u)\n",
    "        gamma_r = sigmoid(np.dot(W_rx, x) + np.dot(W_rh, h) + b_r)\n",
    "        c_t = np.tanh(np.dot(W_hx, x) + np.multiply(gamma_r, np.dot(W_hh, h)) + b_h)\n",
    "        h = np.multiply((1 - gamma_u), c_t) + np.multiply(gamma_u, h)\n",
    "\n",
    "        # Compute output probabilities\n",
    "        y = np.dot(W_y, h) + b_y\n",
    "        prob = np.exp(y - np.max(y)) / np.sum(np.exp(y - np.max(y)))\n",
    "\n",
    "        # Update the log probability sum\n",
    "        log_prob_sum += np.log(prob[char_to_indices[char]])\n",
    "\n",
    "    # Compute log perplexity\n",
    "    log_perplexity = -log_prob_sum / N\n",
    "\n",
    "    # Convert back to perplexity\n",
    "    perplexity = np.exp(log_perplexity)\n",
    "    \n",
    "    return perplexity"
   ]
  },
  {
   "cell_type": "code",
   "execution_count": 112,
   "id": "e2e8da78-db06-4a4d-85b7-41b1bee58f82",
   "metadata": {
    "id": "3ccf8083"
   },
   "outputs": [],
   "source": [
    "m = 500\n",
    "test_prompt = test_text[:m]\n",
    "test_sequence = test_text[m:]"
   ]
  },
  {
   "cell_type": "code",
   "execution_count": 113,
   "id": "7f7500d8-fb49-41f5-9674-32559d4ebf27",
   "metadata": {},
   "outputs": [
    {
     "name": "stdout",
     "output_type": "stream",
     "text": [
      "RNN Perplexity: [13459.50108872]\n",
      "GRU Perplexity: [5419.42895791]\n"
     ]
    }
   ],
   "source": [
    "rnn_perplex = get_perplex_rnn(weights_RNN, test_prompt, test_sequence)\n",
    "print(\"RNN Perplexity:\", rnn_perplex)\n",
    "gru_perplex = get_perplex_gru(weights_GRU, test_prompt, test_sequence)\n",
    "print(\"GRU Perplexity:\", gru_perplex)"
   ]
  },
  {
   "cell_type": "code",
   "execution_count": 114,
   "id": "95d95cbb-9019-4a49-8b11-4fb26fbcdb06",
   "metadata": {
    "id": "3ccf8083"
   },
   "outputs": [],
   "source": [
    "m = 10\n",
    "test_prompt = test_text[:m]\n",
    "test_sequence = test_text[m:]"
   ]
  },
  {
   "cell_type": "code",
   "execution_count": 115,
   "id": "a4c5a88c-9176-4d1e-8f9f-253de4793a72",
   "metadata": {},
   "outputs": [
    {
     "name": "stdout",
     "output_type": "stream",
     "text": [
      "RNN Perplexity: [13397.71259237]\n",
      "GRU Perplexity: [5423.56328402]\n"
     ]
    }
   ],
   "source": [
    "rnn_perplex = get_perplex_rnn(weights_RNN, test_prompt, test_sequence)\n",
    "print(\"RNN Perplexity:\", rnn_perplex)\n",
    "gru_perplex = get_perplex_gru(weights_GRU, test_prompt, test_sequence)\n",
    "print(\"GRU Perplexity:\", gru_perplex)"
   ]
  },
  {
   "cell_type": "markdown",
   "id": "d6001ca8-1a42-4800-96ed-a5031f8b10d1",
   "metadata": {
    "id": "8df914d2"
   },
   "source": [
    "After experimenting with various prompts (starting characters), the GRU model consistently produced perplexity scores much lower than those of the vanilla RNN. This indicates that the GRU model is less \"surprised\" by the test text, demonstrating a better understanding of the underlying language patterns compared to the RNN."
   ]
  },
  {
   "cell_type": "markdown",
   "id": "659674b8-ba74-4c2f-b2cf-d18bc8a54f15",
   "metadata": {
    "id": "9ab728c9"
   },
   "source": [
    "3. As seen in part 2 and 3 of this problem, the text generation is not perfect. Describe some possible model improvements that could make the quality of the generated text better."
   ]
  },
  {
   "cell_type": "markdown",
   "id": "d31392a6-0a6d-48ea-bd9c-e50cb8814e6c",
   "metadata": {},
   "source": [
    "### Answer to 1.4.3"
   ]
  },
  {
   "cell_type": "markdown",
   "id": "dc5d43ba-2116-4c50-a019-e57fcbb815ab",
   "metadata": {
    "id": "8df914d2"
   },
   "source": [
    "Currently, the model generates text by relying solely on the hidden state of the immediately preceding word. This approach limits its ability to capture long-term dependencies and nuanced contextual relationships within the text. A significant improvement would involve incorporating the hidden states of all previous words, weighted dynamically based on their relevance to the current word being generated. This technique, known as attention, is a core mechanism used in transformer models."
   ]
  },
  {
   "cell_type": "markdown",
   "id": "b13b7fe6",
   "metadata": {},
   "source": [
    "## Problem 2: Be the Bard (30 points)\n",
    "\n",
    "<img src=\"https://upload.wikimedia.org/wikipedia/commons/a/a2/Shakespeare.jpg\" alt=\"William\" width=\"200\" style=\"float:left; padding:15px\"/>\n",
    "\n",
    "Transformer models are the current state of the art in many sequence modeling tasks, and the Transformer architecture underlies most Large Language Models (LLMs), including ChatGPT, Llama, Mistral, etc.\n",
    "\n",
    "In this problem, we will implement a Transformer language model from scratch in `numpy`. You will be provided with the weights of a small, slightly simplified Transformer language model that we trained on the works of Shakespeare. We will walk through implementing each component of the Transformer architecture and ultimately assemble this into a language model that can generate some text in the style of the Bard."
   ]
  },
  {
   "cell_type": "code",
   "execution_count": 2,
   "id": "e93cca9d",
   "metadata": {},
   "outputs": [],
   "source": [
    "import numpy as np\n",
    "import pickle\n",
    "#!pip install tiktoken\n",
    "import tiktoken\n",
    "import matplotlib.pyplot as plt\n",
    "import seaborn as sns\n",
    "import math"
   ]
  },
  {
   "cell_type": "code",
   "execution_count": 14,
   "id": "8019aa05",
   "metadata": {},
   "outputs": [],
   "source": [
    "d_model = 512\n",
    "n_layers = 4\n",
    "n_heads = 8\n",
    "d_ff = 1024\n",
    "vocab_size = 1024\n",
    "block_size = 128\n",
    "\n",
    "transformer_model_weights = np.load(f'problem2_model_parameters/model_weights_D{d_model}L{n_layers}H{n_heads}.npy', allow_pickle=True).item()"
   ]
  },
  {
   "cell_type": "code",
   "execution_count": 15,
   "id": "0401772e",
   "metadata": {},
   "outputs": [
    {
     "name": "stdout",
     "output_type": "stream",
     "text": [
      "Parameters:\n",
      "    word_embedding.weight\n",
      "    position_embedding.inv_freq\n",
      "    layers.0.attention.wq.weight\n",
      "    layers.0.attention.wk.weight\n",
      "    layers.0.attention.wv.weight\n",
      "    layers.0.attention.wo.weight\n",
      "    layers.0.feed_forward.0.weight\n",
      "    layers.0.feed_forward.2.weight\n",
      "    layers.1.attention.wq.weight\n",
      "    layers.1.attention.wk.weight\n",
      "    layers.1.attention.wv.weight\n",
      "    layers.1.attention.wo.weight\n",
      "    layers.1.feed_forward.0.weight\n",
      "    layers.1.feed_forward.2.weight\n",
      "    layers.2.attention.wq.weight\n",
      "    layers.2.attention.wk.weight\n",
      "    layers.2.attention.wv.weight\n",
      "    layers.2.attention.wo.weight\n",
      "    layers.2.feed_forward.0.weight\n",
      "    layers.2.feed_forward.2.weight\n",
      "    layers.3.attention.wq.weight\n",
      "    layers.3.attention.wk.weight\n",
      "    layers.3.attention.wv.weight\n",
      "    layers.3.attention.wo.weight\n",
      "    layers.3.feed_forward.0.weight\n",
      "    layers.3.feed_forward.2.weight\n",
      "    fc_out.weight\n",
      "    fc_out.bias\n"
     ]
    }
   ],
   "source": [
    "print('Parameters:')\n",
    "for key in transformer_model_weights.keys():\n",
    "    print(f'    {key}')"
   ]
  },
  {
   "cell_type": "markdown",
   "id": "4d2c04f5",
   "metadata": {},
   "source": [
    "### Problem 2.1: Describe the model parameters\n",
    "\n",
    "Describe the role of the parameters of the model. What are the weights `wq.weight`, `wk.weight`, `wv.weight`, and `wo.weight`? What are the dimensions of these matrices? What about the role and dimensions of the feedforward weights `feed_forward.0.weight` and `feed_forward.2.weight`?\n",
    "\n",
    "You can refer to the descriptions below as well as lecture notes. Note, in particular, in the comments preceding Problem 2.4 that the attention matrices across heads are \"packed together\" when you read in the parameters in each layer."
   ]
  },
  {
   "cell_type": "markdown",
   "id": "4b66841e",
   "metadata": {},
   "source": [
    "### Answer to 2.1"
   ]
  },
  {
   "cell_type": "markdown",
   "id": "f8598ca7-6477-45ef-aed1-4852beb77396",
   "metadata": {},
   "source": [
    "1. The parameters determine the embedding size, the number of attention heads, vocabulary size, and feed-forward size. \n",
    "1. wq.weight is the query weight matrix. This projects the input embeddings into the query vector space, which represents what the input \"wants to focus on\" in other tokens. It has dimensions (d_model, d_head x n_heads) where d_model = 512, d_head = d_model / n_heads = 64, and n_heads = 8. Thus, wq.weight.dim = (512, 512)\n",
    "1. wk.weight is the key weight matrix. This projects the input embedding into the key vector space, which are used to match with queries to determine attention scores. It has same dimensions as wq.weight.\n",
    "1. wv.weight is the value weight matrix. This projects the input embeddings into the value vector space, which represents the information to be aggregated based on the attention scores. It has same dimensions as wq.weight.\n",
    "1. wo.weight is the output weight matrix. This projects the concatenated outputs from all attention heads back into the model's input space. It has same dimensions as wq.weight.\n",
    "1. feed_forward.0.weight expands the input embeddings through a linear transformation followed by an activation function. This is used to introduce non-linearity to the model as well as capture complex behaviors. It has dimensions (d_ff, d_model) = (1024, 512)\n",
    "1. feed_forward.2.weight reduces the expanded embeddings through a linear transformation. This is used to easily feed into the next layer of the transformer. It has dimensions (d_model, d_ff) = (512, 1024)"
   ]
  },
  {
   "cell_type": "markdown",
   "id": "dc6c7b84",
   "metadata": {},
   "source": [
    "### Tokenizer\n",
    "\n",
    "To process text with a neural network model, we need to first tokenize it in order to convert it to a numerical format that the model can understand and process. The tokenizer converts strings into sequences of integer tokens in a fixed vocabulary. There are different ways to do this. For this problem, we trained a custom [Byte-Pair Encoding](https://en.wikipedia.org/wiki/Byte_pair_encoding)  (BPE) tokenizer on Shakespeare text, setting the vocabulary size to 1024. The code below demonstrates how it works."
   ]
  },
  {
   "cell_type": "code",
   "execution_count": 19,
   "id": "1705eb50",
   "metadata": {},
   "outputs": [],
   "source": [
    "# load the BPE tokenizer\n",
    "with open('problem2_model_parameters/bpe1024_enc_full.pkl', 'rb') as pickle_file:\n",
    "    enc = pickle.load(pickle_file)"
   ]
  },
  {
   "cell_type": "code",
   "execution_count": 20,
   "id": "ed255879",
   "metadata": {},
   "outputs": [
    {
     "name": "stdout",
     "output_type": "stream",
     "text": [
      "Original text:\n",
      "What's in a name? that which we call a rose\n",
      "By any other name would smell as sweet;\n",
      "\n",
      "Encoded:\n",
      "[462, 320, 307, 258, 813, 63, 323, 621, 331, 800, 258, 697, 305, 10, 889, 801, 845, 813, 504, 260, 109, 408, 366, 818, 59]\n",
      "\n",
      "Tokens: \n",
      "['What', \"'s\", ' in', ' a', ' name', '?', ' that', ' which', ' we', ' call', ' a', ' ro', 'se', '\\n', 'By', ' any', ' other', ' name', ' would', ' s', 'm', 'ell', ' as', ' sweet', ';']\n",
      "\n",
      "Decoded text:\n",
      "What's in a name? that which we call a rose\n",
      "By any other name would smell as sweet;\n"
     ]
    }
   ],
   "source": [
    "# text to tokenize\n",
    "text = \"\"\"What's in a name? that which we call a rose\n",
    "By any other name would smell as sweet;\"\"\"\n",
    "\n",
    "print('Original text:')\n",
    "print(text)\n",
    "encoded = enc.encode(text)\n",
    "print()\n",
    "\n",
    "print('Encoded:')\n",
    "print(encoded)\n",
    "print()\n",
    "\n",
    "print('Tokens: ')\n",
    "print([enc.decode([idx]) for idx in encoded])\n",
    "decoded = enc.decode(encoded)\n",
    "print()\n",
    "\n",
    "print('Decoded text:')\n",
    "print(decoded)"
   ]
  },
  {
   "cell_type": "markdown",
   "id": "1536a8cd",
   "metadata": {},
   "source": [
    "### Problem 2.2a: Token Embeddings\n",
    "\n",
    "After tokenization, we get a sequence of integers that represent the text to processed, with each integer index corresponding to a particular token in the vocabulary (e.g., a word or word-part). The first step in processing this text is to turn it into a vector representation. This is done via a learned embedding look-up table. For each token in the vocabulary $t \\in \\mathcal{V}$, we learn an embedding $E_t \\in {\\mathbb R}^d$. A sequence of tokens $(t_1, ..., t_n)$ is transformed to a vector representation by mapping each token to its embedding $(E_{t_1}, ..., E_{t_n}) \\in {\\mathbb R}^{n \\times d}$. This sequence of vectors is what the neural network model ultimately operates over."
   ]
  },
  {
   "cell_type": "code",
   "execution_count": 27,
   "id": "6d3c9c6d",
   "metadata": {},
   "outputs": [],
   "source": [
    "def embed_tokens(tokens, params):\n",
    "    \"\"\"\n",
    "    Embed tokens using the input embeddings.\n",
    "\n",
    "    Args:\n",
    "        tokens (np.array): array of token indices, shape (n_tokens,)\n",
    "        params (dict): dictionary containing the model parameters\n",
    "    \"\"\"\n",
    "\n",
    "    # get needed parameters\n",
    "    embeddings = params['word_embedding.weight'] # shape (vocab_size, d_model)\n",
    "    # embeddings is a look up table for embeddings, with rows corresponding to token indices\n",
    "    # i.e., embeddings[token_index] returns the embedding for the token with index token_index\n",
    "\n",
    "    # look up embeddings\n",
    "    embedded_tokens = np.array([embeddings[token] for token in tokens])\n",
    "    return embedded_tokens"
   ]
  },
  {
   "cell_type": "code",
   "execution_count": 30,
   "id": "d8199da5-fb9c-415e-964a-1c4478678f54",
   "metadata": {},
   "outputs": [
    {
     "data": {
      "text/plain": [
       "array([[-0.4494016 ,  0.8637606 ,  0.64816946, -1.0005027 ,  0.65828127],\n",
       "       [ 1.1595719 , -0.09202019,  1.4256238 ,  1.7668523 , -1.366581  ],\n",
       "       [ 0.7071919 ,  0.45128715, -1.1132193 , -0.18074755, -0.36634383]],\n",
       "      dtype=float32)"
      ]
     },
     "execution_count": 30,
     "metadata": {},
     "output_type": "execute_result"
    }
   ],
   "source": [
    "embed_tokens(np.array([1, 2, 3]), params=transformer_model_weights)[:3, :5]"
   ]
  },
  {
   "cell_type": "markdown",
   "id": "f28b3e99",
   "metadata": {},
   "source": [
    "Expected answer:\n",
    "\n",
    "```\n",
    "array([[-0.4494016 ,  0.8637606 ,  0.64816946, -1.0005027 ,  0.65828127],\n",
    "       [ 1.1595719 , -0.09202019,  1.4256238 ,  1.7668523 , -1.366581  ],\n",
    "       [ 0.7071919 ,  0.45128715, -1.1132193 , -0.18074755, -0.36634383]],\n",
    "      dtype=float32)\n",
    "```"
   ]
  },
  {
   "cell_type": "markdown",
   "id": "15ff4c27",
   "metadata": {},
   "source": [
    "### Positional Encoding\n",
    "\n",
    "Transformer models are by-default permutation-equivariant. That is, they don't understand order or position. To make them understand positional information, we need to encode it directly in the token embeddings. One way to do this is to represent each possible position $i$ with its own position embedding ${PE}_i \\in \\mathbb{R}^{d}$. One way to encode the position of each token is to simply add a positional embedding representing the position of the token.\n",
    "\n",
    "In the original Transformer paper, the authors propose a particular choice for ${PE}_i \\in {\\mathbb R}^{d}$ based on sines and cosines with frequencies depending on the position $i$. Since the original proposal, many follow-up works proposed different positional encoding methods aiming to improve performance and length-generalization. In this problem, we'll use the sinusoidal positional encodings of the original Transformer paper.\n",
    "\n",
    "We provide the code for computing these sinusoidal positional embeddings below. To give some intuition about the structure of the sinusoidal positional embeddings, we also plot a heatmap of the pairwise inner products $\\langle PE_i, PE_j \\rangle$. We see that that positions that are closer together have more similar positional embeddings, with additional oscillatory behavior on top of that."
   ]
  },
  {
   "cell_type": "markdown",
   "id": "c215faef",
   "metadata": {},
   "source": [
    "### Problem 2.2b: Describe the positional embeddings\n",
    "\n",
    "Below is an implementation of the positional embeddings. "
   ]
  },
  {
   "cell_type": "code",
   "execution_count": 35,
   "id": "e0f9aac8",
   "metadata": {},
   "outputs": [],
   "source": [
    "def get_sinusoidal_positional_embeddings(sequence_length, dim, base=10000):\n",
    "    inv_freq = 1.0 / (base ** (np.arange(0, dim, 2) / dim))\n",
    "    t = np.arange(sequence_length)\n",
    "    sinusoid_inp = np.einsum(\"i,j->ij\", t, inv_freq)\n",
    "\n",
    "    sin, cos = np.sin(sinusoid_inp), np.cos(sinusoid_inp)\n",
    "\n",
    "    emb = np.concatenate((sin, cos), axis=-1)\n",
    "    # return emb[None, :, :]\n",
    "    return emb[:, :]"
   ]
  },
  {
   "cell_type": "markdown",
   "id": "d4975426",
   "metadata": {},
   "source": [
    "Explore the positional embeddings by computing the inner-product between all pairs of positional embeddings, and then plotting the similarity matrix as a heat map. Do the results make sense? What are the positional embeddings designed to model? Do they do this effectively? Comment below."
   ]
  },
  {
   "cell_type": "code",
   "execution_count": 36,
   "id": "3ddc46dc",
   "metadata": {},
   "outputs": [
    {
     "data": {
      "image/png": "[encoded data removed]",
      "text/plain": [
       "<Figure size 640x480 with 2 Axes>"
      ]
     },
     "metadata": {},
     "output_type": "display_data"
    }
   ],
   "source": [
    "pe = get_sinusoidal_positional_embeddings(128, 256)\n",
    "\n",
    "#Your code here\n",
    "pe_similarity = np.dot(pe, pe.T)\n",
    "\n",
    "sns.heatmap(pe_similarity)\n",
    "plt.title('Similarity Structure of Sinusoidal Positional Embeddings')\n",
    "plt.xlabel('Position')\n",
    "plt.ylabel('Position')\n",
    "plt.show()"
   ]
  },
  {
   "cell_type": "markdown",
   "id": "92850d0c",
   "metadata": {},
   "source": [
    "### Answer to 2.2b"
   ]
  },
  {
   "cell_type": "markdown",
   "id": "32c65473-7a88-4a69-85e3-625a0901d175",
   "metadata": {},
   "source": [
    "The diagonal is bright because the inner product of a vector with itself is the highest. There are periodic rectangles (or waves) that accurately reflect the periodic behavior of sinusoidal waves. Similarity decays as positions become farther apart, demonstrating how positional differences are effectively encoded. The goal of these embeddings is to encode the position of tokens in a sequence, providing the transformer model with a way to understand positional information. This is achieved by assigning a different sinusoidal frequency to each token, ensuring unique and distinguishable embeddings for every position."
   ]
  },
  {
   "cell_type": "markdown",
   "id": "fc783c84",
   "metadata": {},
   "source": [
    "### Multi-Head Attention\n",
    "\n",
    "The core operation in a Transformer is multi-head attention, sometimes called self-attention. In this problem, we will implement multi-head attention in numpy from scratch, given the trained parameters of the model.\n",
    "\n",
    "The input is a sequence of vectors $X = (x_1, ..., x_n) \\in {\\mathbb R}^{n \\times d_{model}}$. For each attention head $h \\in [n_h]$, the parameters consist of a query projection matrix $W_q^h \\in {\\mathbb R}^{d_{model} \\times d_h}$, a key projection matrix $W_k^h \\in {\\mathbb R}^{d_{model} \\times d_h}$, and a value projection matrix $W_k^h \\in {\\mathbb R}^{d_{model} \\times d_h}$. Here, $d_h$ is the \"head dimension\", taken to be $d_{model} / n_h$ (to maintain the same dimensionality between the input and output). The algorithm, for each head, is the following:\n",
    "1. Compute the queries $Q = X W_q^h$, keys $K = X W_k^h$, and values $V = X W_v^h$. Note that the linear maps are applied independently for each token across the embedding dimension (not sequence dimension), such that $Q, K, V \\in {\\mathbb R}^{n \\times d_h}$.\n",
    "2. Compare the queries and keys via inner products to get an $n \\times n$ attention matrix $A = \\mathrm{Softmax}(Q K^{\\intercal} / \\sqrt{d_h}) \\in {\\mathbb R}^{n \\times n}$.\n",
    "3. Use the attention scores $A$ to select values, producing the output of the self-attention head: $\\mathrm{head}_h = A V \\in {\\mathbb R}^{n \\times d_h}$.\n",
    "We then concatenate the retrieved values across all heads, and apply a final linear map. Putting this all together yields:\n",
    "$$\n",
    "\\begin{align}\n",
    "    \\mathrm{head}_h &= \\mathrm{Softmax}((X W_q^h) (X W_k^h)^{\\intercal}/ \\sqrt{d_h}) X W_v^h\\\\\n",
    "    \\mathrm{MultiHeadAttention}(X) &= \\mathrm{concat}(\\mathrm{head}_1, ..., \\mathrm{head}_{n_h}) W_o\\\\\n",
    "\\end{align}\n",
    "$$\n",
    "Note that the matrices $W_q^h$, $W_k^h$, $W_v^h$ are \"packed together\" across heads when you read in the parameters of the model."
   ]
  },
  {
   "cell_type": "markdown",
   "id": "b4bdf260",
   "metadata": {},
   "source": [
    "### Problem 2.3: Implement multi-head attention\n",
    "\n",
    "Complete the implementation below."
   ]
  },
  {
   "cell_type": "code",
   "execution_count": 38,
   "id": "a33c8473",
   "metadata": {},
   "outputs": [],
   "source": [
    "# first, we provide a couple of utility functions\n",
    "\n",
    "def softmax(x, axis=-1):\n",
    "    # a stable implementation of the softmax function\n",
    "    exp_x = np.exp(x - np.max(x, axis=axis, keepdims=True))\n",
    "    return exp_x / np.sum(exp_x, axis=axis, keepdims=True)\n",
    "\n",
    "def apply_presoftmax_causal_mask(attn_scores):\n",
    "    # apply a causal mask to the attention scores (set the entries above the diagonal to -inf)\n",
    "    n = attn_scores.shape[-1]\n",
    "    mask = np.triu(np.ones((n, n)), k=1)\n",
    "    masked_scores = attn_scores - 1e9 * mask\n",
    "    return masked_scores\n",
    "\n",
    "def multi_head_attention(x, params, layer_prefix='layers.0'):\n",
    "    \"\"\"\n",
    "    Compute multi-head self-attention.\n",
    "\n",
    "    Args:\n",
    "        x (np.array): input tensor, shape (n, d_model)\n",
    "        params (dict): dictionary containing the model parameters\n",
    "        layer_prefix (str): prefix of parameter names corresponding to the layer\n",
    "        verbose (bool): whether to print intermediate shapes\n",
    "    \"\"\"\n",
    "\n",
    "    # get parameters of multi-head attention layer\n",
    "    wq = params[f'{layer_prefix}.attention.wq.weight'].T # (d_model, d_model)\n",
    "    wk = params[f'{layer_prefix}.attention.wk.weight'].T # (d_model, d_model)\n",
    "    wv = params[f'{layer_prefix}.attention.wv.weight'].T # (d_model, d_model)\n",
    "    wo = params[f'{layer_prefix}.attention.wo.weight'].T # (d_model, d_model)\n",
    "\n",
    "    head_dim = d_model // n_heads # dimension of each head\n",
    "    attn_scale = 1 / math.sqrt(head_dim) # scaling factor for attention scores\n",
    "\n",
    "    # the wq, wk, wv, wo matrices contain weights for all heads, concatenated\n",
    "    # first, we split wq, wk, wv, wo into heads\n",
    "    # note: there are more efficient implementations, but this is more verbose/pedagogical\n",
    "    wq = wq.reshape(d_model, n_heads, head_dim).transpose(1, 0, 2) # (n_heads, d_model, head_dim)\n",
    "    wk = wk.reshape(d_model, n_heads, head_dim).transpose(1, 0, 2) # (n_heads, d_model, head_dim)\n",
    "    wv = wv.reshape(d_model, n_heads, head_dim).transpose(1, 0, 2) # (n_heads, d_model, head_dim)\n",
    "\n",
    "    head_outputs = []\n",
    "    for head in range(n_heads):\n",
    "\n",
    "        # get head-specific parameters (these are the query/key/value projections for this head)\n",
    "        wqh = wq[head] # (d_model, head_dim)\n",
    "        wkh = wk[head] # (d_model, head_dim)\n",
    "        wvh = wv[head] # (d_model, head_dim)\n",
    "\n",
    "        # compute queries, keys, values\n",
    "        # your code here\n",
    "        q = np.dot(x, wqh) # (n, head_dim)\n",
    "        k = np.dot(x, wkh) # (n, head_dim)\n",
    "        v = np.dot(x, wvh) # (n, head_dim)\n",
    "\n",
    "        # compute attention scores\n",
    "        # your code here\n",
    "        attn_scores = np.dot(q, k.T) # (n, n)\n",
    "\n",
    "        attn_scores = apply_presoftmax_causal_mask(attn_scores)\n",
    "        attn_scores = softmax(attn_scores * attn_scale, axis=-1) # (n, n)\n",
    "\n",
    "        # apply attention scores to values\n",
    "        # your code here\n",
    "        head_out = np.dot(attn_scores, v)  # (n, head_dim)\n",
    "\n",
    "        # store the head output\n",
    "        head_outputs.append(head_out)\n",
    "\n",
    "    # concatenate all head outputs\n",
    "    head_outputs = np.concatenate(head_outputs, axis=-1) # (n, d_model)\n",
    "\n",
    "    # apply output linear map W_o to concatenated head outputs\n",
    "    # your code here\n",
    "    output = np.dot(head_outputs, wo)  # (n, d_model)\n",
    "\n",
    "    return output"
   ]
  },
  {
   "cell_type": "markdown",
   "id": "097f2811",
   "metadata": {},
   "source": [
    "### Problem 2.4: Test your Attention implementation\n",
    "\n",
    "To test if you have the correct implementation, you can run the following \n",
    "test line. We show the expected output if your implementation is correct."
   ]
  },
  {
   "cell_type": "code",
   "execution_count": 39,
   "id": "5f08934d",
   "metadata": {},
   "outputs": [
    {
     "data": {
      "text/plain": [
       "array([[ 0.48334133,  0.19740422, -0.39514927, -0.40647455,  0.4831646 ],\n",
       "       [ 0.48334133,  0.19740422, -0.39514927, -0.40647455,  0.4831646 ],\n",
       "       [ 0.48334133,  0.19740422, -0.39514927, -0.40647455,  0.4831646 ]])"
      ]
     },
     "execution_count": 39,
     "metadata": {},
     "output_type": "execute_result"
    }
   ],
   "source": [
    "multi_head_attention(np.ones((block_size, d_model)), transformer_model_weights)[:3, :5]"
   ]
  },
  {
   "cell_type": "markdown",
   "id": "0da7e60b",
   "metadata": {},
   "source": [
    "Expected output:\n",
    "\n",
    "```\n",
    "array([[ 0.48334133,  0.19740422, -0.39514927, -0.40647455,  0.4831646 ],\n",
    "       [ 0.48334133,  0.19740422, -0.39514927, -0.40647455,  0.4831646 ],\n",
    "       [ 0.48334133,  0.19740422, -0.39514927, -0.40647455,  0.4831646 ]])\n",
    "\n",
    "```"
   ]
  },
  {
   "cell_type": "markdown",
   "id": "5262bb79",
   "metadata": {},
   "source": [
    "### MLP\n",
    "\n",
    "Each Transformer layer (i.e., block) consists of two operations: 1) (multi-head) self-attention, which enables exchange of information between tokens, and 2) a multi-layer perceptron, which processes each token independently. A Transformer model is essentially just alternating between these two operations. In this problem, we will implement the multi-layer perceptron step. Typically, the MLP at each layer is simply a two-layer (one hidden layer) MLP or Feed Forward Network. In our model, we use a ReLU activation in the hidden layer, though other activations are possible. The same MLP network is applied to each token embedding in the sequence independently. \n",
    "\n",
    "Given $X = (x_1, ..., x_n) \\in {\\mathbb R}^{n \\times d_{model}}$, we apply the MLP as follows:\n",
    "\n",
    "$$\\mathrm{MLP}(X) = \\mathrm{ReLU}(X W_1) W_2$$\n",
    "\n",
    "Note that we don't use biases for simplicity."
   ]
  },
  {
   "cell_type": "markdown",
   "id": "055e95c1",
   "metadata": {},
   "source": [
    "### Problem 2.5: Implement the MLP\n",
    "\n",
    "Next, we need to apply the multi-layer perceptron in each layer. Complete the implementation below."
   ]
  },
  {
   "cell_type": "code",
   "execution_count": 40,
   "id": "1bab44c4",
   "metadata": {},
   "outputs": [],
   "source": [
    "def relu(x):\n",
    "    return np.maximum(x, 0)\n",
    "\n",
    "def mlp(x, params, layer_prefix='layers.0'):\n",
    "    # get MLP parameters\n",
    "    w1 = params[f'{layer_prefix}.feed_forward.0.weight'].T # (d_model, d_ff)\n",
    "    w2 = params[f'{layer_prefix}.feed_forward.2.weight'].T # (d_ff, d_model)\n",
    "\n",
    "    # Your code here \n",
    "    h = relu(np.dot(x, w1))\n",
    "    o = np.dot(h, w2) # (n, d_model)\n",
    "\n",
    "    return o"
   ]
  },
  {
   "cell_type": "markdown",
   "id": "dfda8ea8",
   "metadata": {},
   "source": [
    "### Problem 2.6: Test your MLP implementation\n",
    "\n",
    "To test if you have the correct MLP implementation, you can run the following \n",
    "test line. We show the expected output if your implementation is correct."
   ]
  },
  {
   "cell_type": "code",
   "execution_count": 41,
   "id": "8c029d04",
   "metadata": {},
   "outputs": [
    {
     "data": {
      "text/plain": [
       "array([[0.06068574, 0.6727857 , 0.20872724, 0.42208509, 0.29517956],\n",
       "       [0.06068574, 0.6727857 , 0.20872724, 0.42208509, 0.29517956],\n",
       "       [0.06068574, 0.6727857 , 0.20872724, 0.42208509, 0.29517956]])"
      ]
     },
     "execution_count": 41,
     "metadata": {},
     "output_type": "execute_result"
    }
   ],
   "source": [
    "mlp(np.ones((block_size, d_model)), transformer_model_weights)[:3, :5]"
   ]
  },
  {
   "cell_type": "markdown",
   "id": "2a77c039",
   "metadata": {},
   "source": [
    "Expected output:\n",
    "\n",
    "```\n",
    "array([[0.06068574, 0.6727857 , 0.20872724, 0.42208509, 0.29517956],\n",
    "       [0.06068574, 0.6727857 , 0.20872724, 0.42208509, 0.29517956],\n",
    "       [0.06068574, 0.6727857 , 0.20872724, 0.42208509, 0.29517956]])\n",
    "```"
   ]
  },
  {
   "cell_type": "markdown",
   "id": "63e10058",
   "metadata": {},
   "source": [
    "### Final Prediction Layer\n",
    "\n",
    "A Transformer model iteratively applies multi-head attention and MLP layers to process the input. This produces a processed representation of shape $n \\times d_{model}$. To make the final prediction (e.g., predict the next token), we need to map the $d_{model}$-dimensional embedding vectors to logits over the output vocabulary. To do this, we simply apply a linear map that maps from $d_{model}$ to $\\mathtt{vocab\\_size}$.\n",
    "\n",
    "The starter code for this is given below; you need to complete it."
   ]
  },
  {
   "cell_type": "markdown",
   "id": "ab96ed10",
   "metadata": {},
   "source": [
    "### Problem 2.7: Implement the prediction layer as logits."
   ]
  },
  {
   "cell_type": "code",
   "execution_count": 42,
   "id": "682c8f58",
   "metadata": {},
   "outputs": [],
   "source": [
    "def prediction_head(x, params):\n",
    "    # get needed parameters\n",
    "    w = params['fc_out.weight'].T # (d_model, vocab_size)\n",
    "    b = params['fc_out.bias'] # (vocab_size,)\n",
    "\n",
    "    # Your code here\n",
    "    logits = np.dot(x, w) + b # (n, vocab_size)\n",
    "\n",
    "    return logits"
   ]
  },
  {
   "cell_type": "markdown",
   "id": "a7f4fa34",
   "metadata": {},
   "source": [
    "### Problem 2.8: Test the prediction head"
   ]
  },
  {
   "cell_type": "code",
   "execution_count": 43,
   "id": "dc2486eb",
   "metadata": {},
   "outputs": [
    {
     "data": {
      "text/plain": [
       "array([[ 0.88448969,  0.07200013, -0.67318526, -1.11558351,  0.14410351],\n",
       "       [ 0.88448969,  0.07200013, -0.67318526, -1.11558351,  0.14410351],\n",
       "       [ 0.88448969,  0.07200013, -0.67318526, -1.11558351,  0.14410351]])"
      ]
     },
     "execution_count": 43,
     "metadata": {},
     "output_type": "execute_result"
    }
   ],
   "source": [
    "prediction_head(np.ones((block_size, d_model)), transformer_model_weights)[:3, :5]"
   ]
  },
  {
   "cell_type": "markdown",
   "id": "0703eaab",
   "metadata": {},
   "source": [
    "```\n",
    "array([[ 0.88448969,  0.07200013, -0.67318526, -1.11558351,  0.14410351],\n",
    "       [ 0.88448969,  0.07200013, -0.67318526, -1.11558351,  0.14410351],\n",
    "       [ 0.88448969,  0.07200013, -0.67318526, -1.11558351,  0.14410351]])\n",
    "\n",
    "```"
   ]
  },
  {
   "cell_type": "markdown",
   "id": "13656f53",
   "metadata": {},
   "source": [
    "### Putting it all together: A Full Transformer Language Model\n",
    "\n",
    "We are now ready to put this all together to assemble our Transformer Language Model. Recall that the Transformer architecture consists of iteratively applying multi-head attention and MLPs. Each time we apply attention or the MLP, we also apply a *residual connection*: $X^{(\\ell + 1)} = X^{(\\ell)} + F(X^{(\\ell)})$. This can be interpreted as a mechanism to enable easy communication between different layers (some people call refer to this idea as the \"residual stream\"). Real Transformers also include layer normalization in each layer, but we omit this for simplicity in this problem.\n",
    "\n",
    "The full algorithm is given below:\n",
    "1. Embed the tokens using the embedding lookup table: $(t_1, ..., t_n) \\mapsto (E_{t_1}, ..., E_{t_n}) =: X^{(0)}$\n",
    "2. Add the positional embeddings: $X^{(0)} \\gets X^{(0)} + (PE_1, ..., PE_n)$\n",
    "3. For each layer $\\ell = 1, ..., L$:\n",
    "    1. Apply Multi-Head Attention: $\\tilde{X}^{(\\ell)} \\gets X^{(\\ell-1)} + \\mathrm{MultiHeadAttention}(X^{(\\ell-1)})$.\n",
    "    2. Apply the MLP: $X^{(\\ell)} \\gets \\tilde{X}^{(\\ell)} + \\mathrm{MLP}(\\tilde{X}^{(\\ell)})$.\n",
    "4. Compute the logits"
   ]
  },
  {
   "cell_type": "markdown",
   "id": "6e56a03f",
   "metadata": {},
   "source": [
    "### Problem 2.9: Complete the implementation\n",
    "\n",
    "Complete the starter code below, which takes embeddings, adds positional encoding, \n",
    "and then adds the attention and MLP components to each layer. Remember that \n",
    "everything is added together, with the computations in one layer added to the outputs of the previous layer, forming the \"residual stream\"."
   ]
  },
  {
   "cell_type": "code",
   "execution_count": 46,
   "id": "79983203",
   "metadata": {},
   "outputs": [],
   "source": [
    "def transformer(tokens, params):\n",
    "    # tokens: (n,) integer array\n",
    "    # params: dictionary of parameters\n",
    "\n",
    "    # map tokens to embeddings using embed_tokens\n",
    "    x = embed_tokens(tokens, params)  # (n, d_model)\n",
    "\n",
    "    # add positional embeddings\n",
    "    pe = get_sinusoidal_positional_embeddings(x.shape[0], x.shape[1]) # (n, d_model)\n",
    "    # your code here\n",
    "    x = x + pe\n",
    "\n",
    "    # transformer blocks\n",
    "    for i in range(n_layers):\n",
    "\n",
    "        # compute multi-head self-attention and add residual\n",
    "        # your code here\n",
    "        attn_out = multi_head_attention(x, params, layer_prefix=f'layers.{i}') # (n, d_model)\n",
    "        # your code here\n",
    "        x = x + attn_out\n",
    "\n",
    "        # compute MLP and add residual\n",
    "        mlp_out = mlp(x, params, layer_prefix=f'layers.{i}') # (n, d_model)\n",
    "        # your code here\n",
    "        x = x + mlp_out\n",
    "\n",
    "    # compute logits via the prediction_head\n",
    "    # your code here\n",
    "    logits = prediction_head(x, params) # (n, vocab_size)\n",
    "\n",
    "    return logits"
   ]
  },
  {
   "cell_type": "markdown",
   "id": "c4d9fb54",
   "metadata": {},
   "source": [
    "### Problem 2.10: Test your implementation\n",
    "\n",
    "You can check your implementation against the expected output below."
   ]
  },
  {
   "cell_type": "code",
   "execution_count": 49,
   "id": "f2a13d16",
   "metadata": {},
   "outputs": [
    {
     "data": {
      "text/plain": [
       "array([[-1.9641349 , -5.12566872, -5.90677718, -5.57889839, -3.85043564],\n",
       "       [-2.31297379, -4.9703405 , -3.49086668, -5.3996587 , -3.99684942],\n",
       "       [-2.97001726, -4.84049568, -4.04949194, -4.01892107, -6.03805991]])"
      ]
     },
     "execution_count": 49,
     "metadata": {},
     "output_type": "execute_result"
    }
   ],
   "source": [
    "transformer([0, 1, 2], params=transformer_model_weights)[:3, :5]"
   ]
  },
  {
   "cell_type": "markdown",
   "id": "c2f3af6d",
   "metadata": {},
   "source": [
    "Expected Output:\n",
    "\n",
    "```\n",
    "array([[-1.96413494, -5.12566872, -5.90677725, -5.57889829, -3.85043572],\n",
    "       [-2.31297382, -4.97034061, -3.49086669, -5.39965866, -3.99684957],\n",
    "       [-2.97001738, -4.8404957 , -4.04949199, -4.01892112, -6.03806011]])\n",
    "```"
   ]
  },
  {
   "cell_type": "markdown",
   "id": "d8140e28",
   "metadata": {},
   "source": [
    "### Generate some text\n",
    "\n",
    "Below, we provide some code for generating text from a Transformer language model. The sampling procedure is *autoregressive*. This means that we input some text to the model and it outputs a distribution over next tokens. We sample the next token and append it to the text, then repeat the procedure."
   ]
  },
  {
   "cell_type": "markdown",
   "id": "2d3b513e",
   "metadata": {},
   "source": [
    "### Problem 2.11: Complete the next token generator\n",
    "\n",
    "Complete the next token generator, but filling in the missing code below. This uses \"temperature\" to focus on the more probable tokens in a given context (as the temperature decreases). This results in sampling according to \n",
    "$ \\mathrm{Softmax}(\\mathrm{logits}/T)$ where $T \\geq 0$ is the temperature; lower temperature places higher probability on tokens having larger logits. Greedy sampling corresponds to $T=0$, and selects the token with the largest logit."
   ]
  },
  {
   "cell_type": "code",
   "execution_count": 51,
   "id": "62cc0314",
   "metadata": {},
   "outputs": [],
   "source": [
    "def generate_with_transformer(prefix_text, params, max_len=128, greedy=False, temperature=0.9):\n",
    "    # encode seed text\n",
    "    prefix_tokens = list(enc.encode(prefix_text))\n",
    "\n",
    "    # initialize generated tokens\n",
    "    generated_tokens = prefix_tokens\n",
    "\n",
    "    # generate new tokens\n",
    "    for i in range(max_len):\n",
    "        # predict next token\n",
    "        logits = transformer(generated_tokens, params)\n",
    "        # logits[-1] corresponds to prediction of the next token\n",
    "        next_logits = logits[-1]\n",
    "        \n",
    "        if greedy:\n",
    "            # Your code here\n",
    "            next_token = np.argmax(next_logits)\n",
    "        else:\n",
    "            # Your code here\n",
    "            scaled_logits = next_logits / temperature\n",
    "            probabilities = np.exp(scaled_logits) / np.sum(np.exp(scaled_logits))\n",
    "            next_token = np.random.choice(len(probabilities), p=probabilities)\n",
    "\n",
    "        # add next token to generated tokens\n",
    "        generated_tokens.append(next_token)\n",
    "\n",
    "    # This converts the tokens to text, using the tiktoken decoder:\n",
    "    generated_text = enc.decode(generated_tokens)\n",
    "\n",
    "    return generated_text"
   ]
  },
  {
   "cell_type": "markdown",
   "id": "3fc3651d",
   "metadata": {},
   "source": [
    "### Problem 2.12: Test your implementation by generating text. You're the Bard!\n",
    "\n",
    "Use your implementation to generate text according to the model. Generate text at different temperatures. Do the results make sense? Comment on the quality of the model. What changes to the model would lead to better results? Comment in the Markdown cell below."
   ]
  },
  {
   "cell_type": "code",
   "execution_count": 52,
   "id": "ba145d3a",
   "metadata": {},
   "outputs": [
    {
     "name": "stdout",
     "output_type": "stream",
     "text": [
      "ANTONIO:\n",
      "Do you not hear me speak?\n",
      "\n",
      "First Citizen:\n",
      "We cannot\n",
      "\n",
      "First Citizen:\n",
      "He that hath done fell, sir, sir, sir, sir, sir, sir, sir, sir,\n",
      "Which ne'er could the belly answer'd--\n",
      "Which you,\n",
      "Which you shall fell'd:\n",
      "Which you shall tell you'll hear it smile, Iliber,\n",
      "Which ne'--it it belly taunted head the belly,\n",
      "MENENIUS:\n",
      "There answer'd, you'll have lusedup\n",
      "'\n",
      "There\n"
     ]
    }
   ],
   "source": [
    "prefix_text = \"\"\"ANTONIO:\n",
    "Do you not hear me speak?\"\"\"\n",
    "\n",
    "generated_text = generate_with_transformer(prefix_text, transformer_model_weights, greedy=True, max_len=128)\n",
    "print(generated_text)"
   ]
  },
  {
   "cell_type": "code",
   "execution_count": 53,
   "id": "fdbfc520",
   "metadata": {},
   "outputs": [
    {
     "name": "stdout",
     "output_type": "stream",
     "text": [
      "ANTONIO:\n",
      "Do you not hear me speak?\n",
      "\n",
      "\n",
      "First Citizen:\n",
      "MENENIUS:\n",
      "The sen, what senenenators of Rome are this good belly,\n",
      "First Citizen:\n",
      "The countrymenenenenebly like a gen though so!\n",
      "Which the belly,\n",
      "Sir counsed it did mute, the midst o' the body.\n",
      "\n",
      "\n",
      "\n",
      "MENENIUS:\n",
      "Sselly's answer?\n",
      "Our bashould by the belly,\n",
      "Sir, I shall tell you\n",
      "First C\n"
     ]
    }
   ],
   "source": [
    "prefix_text = \"\"\"ANTONIO:\n",
    "Do you not hear me speak?\"\"\"\n",
    "\n",
    "generated_text = generate_with_transformer(prefix_text, transformer_model_weights, greedy=False, temperature=0.8, max_len=128)\n",
    "print(generated_text)"
   ]
  },
  {
   "cell_type": "code",
   "execution_count": 57,
   "id": "d137b6ff-7f40-4bd7-b1d1-666afb0531de",
   "metadata": {},
   "outputs": [
    {
     "name": "stdout",
     "output_type": "stream",
     "text": [
      "ANTONIO:\n",
      "Do you not hear me speak?\n",
      "\n",
      "First Citizen:\n",
      "We cannot\n",
      "First Citizen:\n",
      "MENENIUS:\n",
      "The senators of Rome are this good belly,\n",
      "And you the mutinous members; for examine\n",
      "Their counsels and their cares, digest things rightly\n",
      "Touching the weal o' the common, you shall find\n",
      "No public benefit which you receive\n",
      "But it proceeds or comes from them to you\n",
      "And no way from them to you\n",
      "And no way from them to you\n",
      "And no way from them to you do you do you do you\n",
      "And no way from them to food at the greatness that they live: but the commons or comes from them to you\n",
      "And no way from them asse courty toe of this asse will flour with being one o' What then? What do you do you think, the great to you care fort them as you do you could you\n",
      "And no subling the commons or comes from them to you could yieve\n"
     ]
    }
   ],
   "source": [
    "prefix_text = \"\"\"ANTONIO:\n",
    "Do you not hear me speak?\"\"\"\n",
    "\n",
    "generated_text = generate_with_transformer(prefix_text, transformer_model_weights, greedy=False, temperature=0.1, max_len=250)\n",
    "print(generated_text)"
   ]
  },
  {
   "cell_type": "code",
   "execution_count": 58,
   "id": "87916843-5d1e-4d5c-bfa3-efea350bee2b",
   "metadata": {},
   "outputs": [
    {
     "name": "stdout",
     "output_type": "stream",
     "text": [
      "ANTONIO:\n",
      "Do you not hear me speak?\n",
      "Pats, we'll hear it side o' the common\n",
      "First Citizen:\n",
      "Pating here?\n",
      "First Citizen:\n",
      "Their countrymor heart could belly, I shall famine\n",
      "\n",
      "They answer a timeed head, I shall famselly, I shall fell'd--\n",
      "'-- taunting the leg, famine\n",
      "MENENIUS:\n",
      "Sir, what smile,\n",
      "As well as speak--of the belly's answer could by the muthould you receive that\n",
      "Which ne'From me do deed his nat o'-- that delieds and thus-- muth like a luselly's answeringly replile and thus--\n",
      "Or belly's answer came from in hand?\n",
      "There I will vigestame from thus-- mutinous partic body's answer came from the belly's answer came from the belly particior ice did remain we might gain\n"
     ]
    }
   ],
   "source": [
    "prefix_text = \"\"\"ANTONIO:\n",
    "Do you not hear me speak?\"\"\"\n",
    "\n",
    "generated_text = generate_with_transformer(prefix_text, transformer_model_weights, greedy=False, temperature=0.8, max_len=250)\n",
    "print(generated_text)"
   ]
  },
  {
   "cell_type": "markdown",
   "id": "ff574506",
   "metadata": {},
   "source": [
    "### Problem 2.12\n",
    "The results demonstrate that the model performs reasonably well in generating Shakespearean text. Adjusting the temperature parameter shows that lower values lead to outputs resembling greedy decoding, where the model consistently predicts tokens like \"sir,\" likely due to its frequent use in Shakespeare's works. Higher temperatures introduce more randomness, resulting in text that feels less Shakespearean and more like the model's unique interpretation. Experimenting with max_len highlights the transformer's ability to generate longer and more coherent text compared to vanilla RNNs, though some incoherence remains.\n",
    "\n",
    "To improve performance, the model could benefit from an increased size, as it currently has only 4 layers, whereas models like BERT and modern LLMs use 12 and upwards of 128 layers, respectively. Expanding the training dataset would also enhance the model’s understanding of context and vocabulary. Finally, fine-tuning the model on downstream tasks with supervised prompts could further improve its ability to generate coherent and contextually appropriate text."
   ]
  },
  {
   "cell_type": "code",
   "execution_count": null,
   "id": "e1443b4b-286a-4c76-95c2-5de406953115",
   "metadata": {},
   "outputs": [],
   "source": []
  }
 ],
 "metadata": {
  "colab": {
   "provenance": []
  },
  "kernelspec": {
   "display_name": "sds365",
   "language": "python",
   "name": "sds365"
  },
  "language_info": {
   "codemirror_mode": {
    "name": "ipython",
    "version": 3
   },
   "file_extension": ".py",
   "mimetype": "text/x-python",
   "name": "python",
   "nbconvert_exporter": "python",
   "pygments_lexer": "ipython3",
   "version": "3.10.15"
  }
 },
 "nbformat": 4,
 "nbformat_minor": 5
}
