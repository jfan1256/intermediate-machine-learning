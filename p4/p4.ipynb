{
 "cells": [
  {
   "cell_type": "markdown",
   "metadata": {},
   "source": [
    "# Intermediate Machine Learning: Assignment 4\n",
    "\n",
    "**Deadline**\n",
    "\n",
    "Assignment 4 is due Monday, November 18 by 11:59pm. Late work will not be accepted as per the course policies (see the Syllabus and Course policies on Canvas).\n",
    "\n",
    "Directly sharing answers is not okay, but discussing problems with the course staff or with other students is encouraged.\n",
    "\n",
    "You should start early so that you have time to get help if you're stuck. The drop-in office hours schedule can be found on Canvas. You can also post questions or start discussions on Ed Discussion. The assignment may look long at first glance, but the problems are broken up into steps that should help you to make steady progress.\n",
    "\n",
    "**Submission**\n",
    "\n",
    "Submit your assignment as a pdf file on Gradescope, and as a notebook (.ipynb) on Canvas. You can access Gradescope through Canvas on the left-side of the class home page. The problems in each homework assignment are numbered. Note: When submitting on Gradescope, please select the correct pages of your pdf that correspond to each problem. This will allow graders to more easily find your complete solution to each problem.\n",
    "\n",
    "To produce the .pdf, please do the following in order to preserve the cell structure of the notebook:\n",
    "\n",
    "Go to \"File\" at the top-left of your Jupyter Notebook\n",
    "Under \"Download as\", select \"HTML (.html)\"\n",
    "After the .html has downloaded, open it and then select \"File\" and \"Print\" (note you will not actually be printing)\n",
    "From the print window, select the option to save as a .pdf\n",
    "\n",
    "**Topics**\n",
    "\n",
    " * Graph kernels\n",
    " * Reinforcement learning\n",
    "\n",
    "This assignment will also help to solidify your Python skills."
   ]
  },
  {
   "cell_type": "markdown",
   "metadata": {},
   "source": [
    "$\\renewcommand{\\reals}{{\\mathbb R}}\n",
    "\\newcommand{\\indp}{\\perp\\kern-4pt\\perp}\n",
    "\\newcommand{\\given}{\\,|\\,}$\n",
    "\n",
    "\n",
    "## Problem 1: Graph kernels (20 points)"
   ]
  },
  {
   "cell_type": "code",
   "execution_count": 21,
   "metadata": {},
   "outputs": [],
   "source": [
    "import numpy as np\n",
    "import matplotlib.pyplot as plt\n",
    "import matplotlib.image as img\n",
    "import sklearn\n",
    "import random\n",
    "from numpy.linalg import inv\n",
    "%matplotlib inline"
   ]
  },
  {
   "cell_type": "code",
   "execution_count": 22,
   "metadata": {},
   "outputs": [],
   "source": [
    "# Helper functions for third part of exercise\n",
    "\n",
    "def rgb2gray(rgb):\n",
    "    \"\"\"Function to turn RGB images in greyscale images.\"\"\"\n",
    "    return np.dot(rgb[..., :3], [0.2989, 0.5870, 0.1140])\n",
    "\n",
    "\n",
    "def grid_adj(rows, cols):\n",
    "    \"\"\"Function that creates the adjacency matrix of \n",
    "    a grid graph with predefined amount of rows and columns.\"\"\"\n",
    "    M = np.zeros([rows*cols, rows*cols])\n",
    "    for r in np.arange(rows):\n",
    "        for c in np.arange(cols):\n",
    "            i = r*cols + c\n",
    "            if c > 0:\n",
    "                M[i-1, i] = M[i, i-1] = 1\n",
    "            if r > 0:\n",
    "                M[i-cols, i] = M[i, i-cols] = 1\n",
    "    return M"
   ]
  },
  {
   "cell_type": "markdown",
   "metadata": {},
   "source": [
    "The graph Laplacian for a weighted graph on $n$ nodes is defined as\n",
    "\n",
    "$$ L = D - W$$\n",
    "\n",
    "where $W$ is an $n\\times n$ symmetric matrix of positive edge weights,\n",
    "with $W_{ij} = 0$ if $(i,j)$ is not an edge in the graph,\n",
    "and $D$ is the diagonal matrix with $D_{ii} = \\sum_{j=1}^n W_{ij}$.\n",
    "This generalizes the definition of the Laplacian\n",
    "used in class, where all of the edge weights are one.\n",
    "\n",
    "\n",
    "1. Show that $L$ is a Mercer kernel, by showing that $L$ is\n",
    "  symmetric and positive-semidefinite.\n",
    "<br>\n",
    "\n",
    "2. In graph neural networks we define polynomial filters of the form\n",
    "\n",
    "  $$ P = a_0 I + a_1 L + a_2 L^2 + \\cdots a_d L^d$$\n",
    "  \n",
    "  where $L$ is the Laplacian and $a_0,\\ldots, a_d$ are parameters,\n",
    "  corresponding to the filter parameters in standard convolutional\n",
    "  neural networks.\n",
    "\n",
    "  If each $a_i \\geq 0$ is non-negative, show that $P$ is also\n",
    "  a Mercer kernel. \n",
    "<br>"
   ]
  },
  {
   "cell_type": "markdown",
   "metadata": {},
   "source": [
    "3. This polynomial filter has many applications. A handful of these applications\n",
    "   are based on the fact that, given a graph with a signal x, the value of $x^T L x$ \n",
    "   will be low in case the signal is smooth (i.e. smooth transitions of x between \n",
    "   neighboring nodes). A large $x^T L x$ means that we have a rough graph signal (i.e.\n",
    "   a lot of jumps in x between neighboring nodes).\n",
    "   \n",
    "   An intersting application that uses this property is the so-called image inpainting \n",
    "   process, where an image is seen as grid graph. Image inpainting tries to restore \n",
    "   a corrupted image by smoothing out the neighboring pixel values. In this problem\n",
    "   we corrupt an image by turning off (i.e. making the pixel value equal to zero) a\n",
    "   certain portion of the pixels. Your goal will be to restore the corrupted image\n",
    "   and hence recreate the original image.\n",
    "   \n",
    "   First, let's corrupt an image by turning off a portion of the pixels. For this \n",
    "   exercise, we choose to turn off 30% of the pixels. The result is shown below. \n",
    "   Try to understand the code, as some variables might be interesting for your work.\n",
    "   \n",
    "   The image \"Yale_Bulldogs.jpg\" can be found in Canvas under assn4 folder, and also in the GitHub repo https://github.com/YData123/sds365-fa24/tree/main/assignments/assn4 "
   ]
  },
  {
   "cell_type": "code",
   "execution_count": 3,
   "metadata": {},
   "outputs": [
    {
     "data": {
      "image/png": "[encoded data removed]",
      "text/plain": [
       "<Figure size 640x480 with 2 Axes>"
      ]
     },
     "metadata": {},
     "output_type": "display_data"
    }
   ],
   "source": [
    "# Normalize the pixels of the original image\n",
    "image = img.imread(\"Yale_Bulldogs.jpg\") / 255\n",
    "# Turn picture into greyscale\n",
    "gray_image = rgb2gray(image)\n",
    "height_img = gray_image.shape[0]\n",
    "width_img = gray_image.shape[1]\n",
    "\n",
    "# Turn off (value 0) certain pixels\n",
    "fraction_off = int(0.30*height_img*width_img)\n",
    "mask = np.ones(height_img*width_img, dtype=int)\n",
    "# Set the first fraction of pixels off\n",
    "mask[:fraction_off] = 0\n",
    "# Shuffle to create randomness\n",
    "np.random.shuffle(mask)\n",
    "# Multiply the original image by the reshapes mask\n",
    "mask = np.reshape(mask, (height_img, width_img))\n",
    "corrupted_image = np.multiply(mask, gray_image)\n",
    "\n",
    "fig, (ax1, ax2) = plt.subplots(1, 2)\n",
    "ax1.imshow(gray_image, cmap=plt.get_cmap('gray'))\n",
    "ax1.set_title(\"Original Image\")\n",
    "ax2.imshow(corrupted_image, cmap=plt.get_cmap('gray'))\n",
    "ax2.set_title(\"Corrupted Image\")\n",
    "\n",
    "plt.show()"
   ]
  },
  {
   "cell_type": "markdown",
   "metadata": {},
   "source": [
    "Inpainting missing pixel values can be formulated as the following \n",
    "optimization problem:\n",
    "\n",
    "$$\n",
    "\\underset{\\textbf{x} \\in \\mathbb{R}^n}{\\min} \\left\\{ \\lVert \\textbf{y} − \\textbf{M} \\textbf{x} \\rVert^2_2 \n",
    "+ \\alpha \\textbf{x}^T\\textbf{P}\\textbf{x} \\right\\}\n",
    "$$\n",
    "\n",
    "where $\\textbf{y} \\in \\mathbb{R}^n$ ($n$ being the total amount of pixels) is the corrupted graph signal \n",
    "(with missing pixel values being 0) and $\\alpha$ is a regularization \n",
    "(smoothing) parameter that controls for smoothness of the graph. $\\textbf{P}$ is the\n",
    "polynomial filter based on the laplacian $\\textbf{L}$. Finally, $\\textbf{M}$ \n",
    "$\\in \\mathbb{R}^{n \\times n}$ is a diagonal matrix that satisfies:\n",
    "\n",
    "$$\n",
    "\\textbf{M}(i, i) =\n",
    "    \\begin{cases}\n",
    "      1, \\ \\textrm{if $\\textbf{y}$(i) is observed} \\\\ \\\\\n",
    "      0, \\ \\textrm{if $\\textbf{y}$(i) is corrupted}\n",
    "    \\end{cases}\\,\n",
    "$$"
   ]
  },
  {
   "cell_type": "markdown",
   "metadata": {},
   "source": [
    "The optimization problem tries to find an $\\textbf{x}$ that matches the \n",
    "observed values in $\\textbf{y}$, and at the same time tries to be smooth \n",
    "on the graph. Start with deriving a closed form solution of this optimization\n",
    "problem:"
   ]
  },
  {
   "cell_type": "markdown",
   "metadata": {},
   "source": [
    "## Answer to Problem 1 (1. 2. 3.)"
   ]
  },
  {
   "cell_type": "markdown",
   "metadata": {},
   "source": [
    "### Problem 1 (1.)"
   ]
  },
  {
   "cell_type": "markdown",
   "metadata": {},
   "source": [
    "**Proof:** We wish to that $L$ is symmetric and positive semidefinite, and thus a Mercer Kernel.\n",
    "\n",
    "**Symmetry:**\n",
    "\n",
    "Since $W$ is a symmetric matrix (by definition, $W_{ij} = W_{ji}$), the diagonal matrix $D$ is also symmetric because $D_{ii} = \\sum_{j=1}^n W_{ij}$ only involves sums of symmetric terms. Therefore, $L = D - W$ is symmetric as the sum or difference of symmetric matrices is symmetric.\n",
    "\n",
    "**Positive Semidefinite:**\n",
    "\n",
    "Consider a vector $x \\in \\mathbb{R}^n$. The quadratic form associated with $L$ is:\n",
    "$$ x^\\top L x = x^\\top (D - W) x = x^\\top D x - x^\\top W x. $$\n",
    "\n",
    "Expanding each term:\n",
    "\\begin{align*}\n",
    "x^\\top D x &= \\sum_{i=1}^n D_{ii} x_i^2 = \\sum_{i=1}^n \\left( \\sum_{j=1}^n W_{ij} \\right) x_i^2, \\\\\n",
    "x^\\top W x &= \\sum_{i=1}^n \\sum_{j=1}^n W_{ij} x_i x_j.\n",
    "\\end{align*}\n",
    "\n",
    "Combining these, we have:\n",
    "$$ x^\\top L x = \\sum_{i=1}^n \\sum_{j=1}^n W_{ij} (x_i^2 - x_i x_j). $$\n",
    "\n",
    "From **Lemma 1.** we can the equivalent expression:\n",
    "$$ x^\\top L x = \\frac{1}{2} \\sum_{i=1}^n \\sum_{j=1}^n W_{ij} (x_i - x_j)^2. $$\n",
    "\n",
    "Since $W_{ij} \\geq 0$ and $(x_i - x_j)^2 \\geq 0$, it follows that $x^\\top L x \\geq 0$ for all $x \\in \\mathbb{R}^n$. Therefore, $L$ is positive semidefinite. $\\square$\n",
    "\n",
    "**Lemma 1.**\n",
    "\n",
    "To go from \n",
    "$$ x^\\top L x = \\sum_{i=1}^n \\sum_{j=1}^n W_{ij} (x_i^2 - x_i x_j) $$\n",
    "to \n",
    "$$ x^\\top L x = \\frac{1}{2} \\sum_{i=1}^n \\sum_{j=1}^n W_{ij} (x_i - x_j)^2, $$\n",
    "we proceed as follows:\n",
    "\n",
    "Expand $(x_i - x_j)^2 = x_i^2 - 2x_i x_j + x_j^2$ and substitute:\n",
    "$$ \\sum_{i=1}^n \\sum_{j=1}^n W_{ij} (x_i - x_j)^2 = \\sum_{i=1}^n \\sum_{j=1}^n W_{ij} (x_i^2 - 2x_i x_j + x_j^2). $$\n",
    "\n",
    "Group terms:\n",
    "$$ \\sum_{i=1}^n \\sum_{j=1}^n W_{ij} x_i^2 - 2 \\sum_{i=1}^n \\sum_{j=1}^n W_{ij} x_i x_j + \\sum_{i=1}^n \\sum_{j=1}^n W_{ij} x_j^2. $$\n",
    "\n",
    "Use symmetry of $ W$ ($ W_{ij} = W_{ji}$) to combine terms:\n",
    "$$ \\sum_{i=1}^n \\sum_{j=1}^n W_{ij} x_i^2 + \\sum_{i=1}^n \\sum_{j=1}^n W_{ij} x_j^2 = 2 \\sum_{i=1}^n \\sum_{j=1}^n W_{ij} x_i^2. $$\n",
    "\n",
    "Divide by 2 to account for redundancy:\n",
    "$$ x^\\top L x = \\frac{1}{2} \\sum_{i=1}^n \\sum_{j=1}^n W_{ij} (x_i - x_j)^2. $$\n",
    "\n",
    "This completes the derivation. $\\square$"
   ]
  },
  {
   "cell_type": "markdown",
   "metadata": {},
   "source": [
    "### Problem 1. (2.)"
   ]
  },
  {
   "cell_type": "markdown",
   "metadata": {},
   "source": [
    "**Proof** We wish to show that the polynomial filter $P$ is symmetric and positive semidefinite, and thus a Mercer Kernel. $P$ is defined as:\n",
    "$$ P = a_0 I + a_1 L + a_2 L^2 + \\cdots + a_d L^d, $$\n",
    "where $a_0, \\ldots, a_d \\geq 0$ and $L$ is the Laplacian matrix.\n",
    "\n",
    "**Symmetry**\n",
    "\n",
    "Since $L$ is symmetric, all powers of $L$, i.e., $L^2, L^3, \\ldots, L^d$, are also symmetric. $I$ (the identity matrix) is symmetric. Thus, $P$, is symmetric as a linear combination of symmetric matrices is symmetric.\n",
    "\n",
    "**Positive Semidefinite** \n",
    "\n",
    "For any $x \\in \\mathbb{R}^n$, consider the quadratic form associated with $P$:\n",
    "$$ x^\\top P x = a_0 x^\\top I x + a_1 x^\\top L x + a_2 x^\\top L^2 x + \\cdots + a_d x^\\top L^d x. $$\n",
    "\n",
    "Notice that each term is non-negative:\n",
    "1. $x^\\top I x = \\|x\\|^2 \\geq 0$.\n",
    "2. $x^\\top L x \\geq 0$ since $L$ is positive semidefinite.\n",
    "3. For $k \\geq 2$, $x^\\top L^k x \\geq 0$ because $L^k$ is the product of positive semidefinite matrices, which remains positive semidefinite.\n",
    "\n",
    "Since $a_0, \\ldots, a_d \\geq 0$, the sum $x^\\top P x \\geq 0$. Thus, $P$ is positive semidefinite. $\\square$"
   ]
  },
  {
   "cell_type": "markdown",
   "metadata": {},
   "source": [
    "### Problem 1 (3.)"
   ]
  },
  {
   "cell_type": "markdown",
   "metadata": {},
   "source": [
    "We wish to optimize:\n",
    "$$\n",
    "L(x) = \\underset{\\textbf{x} \\in \\mathbb{R}^n}{\\min} \\left\\{ \\lVert \\textbf{y} − \\textbf{M} \\textbf{x} \\rVert^2_2 \n",
    "+ \\alpha \\textbf{x}^T\\textbf{P}\\textbf{x} \\right\\}\n",
    "$$\n",
    "\n",
    "Let us first expand the expression:\n",
    "\\begin{align}\n",
    "L(x) &= (y - Mx)^T(y-Mx) + \\alpha x^TPx \\\\\n",
    "&= (y^T - x^TM^T)(y-Mx) + \\alpha x^TPx\\\\ \n",
    "&= y^Ty - y^TMx - x^TM^Ty + x^TM^TMX + \\alpha x^TPx\n",
    "\\end{align}\n",
    "\n",
    "Take the **FOC** w.r.t $x$ to arrive at $\\hat{x}$ and noticing that $M^T = M$ and $M^TM = M$:\n",
    "$$L'(x) = 2M^TMx - 2M^Ty + 2\\alpha Px = 0$$\n",
    "$$M^TMx + \\alpha Px = M^Ty$$\n",
    "$$\\hat{x} = (M^TM + \\alpha P)^{-1}M^Ty  = (M + \\alpha P)^{-1} M y\\, \\square$$"
   ]
  },
  {
   "cell_type": "markdown",
   "metadata": {},
   "source": [
    "Next, let's restore our image. To keep things simple, let's say we already \n",
    "trained the polynomial filter $\\textbf{P}$ of degree 2 and we found the \n",
    "following weights:\n",
    "\n",
    "$$\n",
    "\\textbf{P} =  \\textbf{L} + 0.05 \\ \\textbf{L}^2\n",
    "$$\n",
    "\n",
    "Fill in the following lines of code and show your reconstructed images next\n",
    "to the corrupted image. Assume that the weights on the graph edges are equal to 1.\n"
   ]
  },
  {
   "cell_type": "code",
   "execution_count": 50,
   "metadata": {},
   "outputs": [],
   "source": [
    "# Corrupted graph signal\n",
    "y = corrupted_image.flatten()\n",
    "\n",
    "# Diagonal matrix defined as above\n",
    "M = np.diag(mask.flatten())\n",
    "\n",
    "# Adjacency matrix of the graph (by using the helper function)\n",
    "A = grid_adj(height_img, width_img)\n",
    "\n",
    "# Diagonal matrix defined as above\n",
    "D = np.diag(A.sum(axis=1))\n",
    "\n",
    "# Graph Laplacian defined as above\n",
    "L = D - A\n",
    "\n",
    "# Polynomial filter defined as above\n",
    "P = L + 0.05 * (L @ L)"
   ]
  },
  {
   "cell_type": "code",
   "execution_count": 51,
   "metadata": {},
   "outputs": [],
   "source": [
    "# Imported this function for Problem 1 (3.)\n",
    "from scipy.sparse.linalg import cg\n",
    "\n",
    "# Try to experiment with different alpha values\n",
    "alpha = 0.1\n",
    "\n",
    "# closed form solution you derived above\n",
    "I = np.eye(L.shape[0])\n",
    "objective_matrix = M + alpha * P\n",
    "b = M @ y\n",
    "x, _ = cg(objective_matrix, b)"
   ]
  },
  {
   "cell_type": "code",
   "execution_count": 52,
   "metadata": {},
   "outputs": [
    {
     "data": {
      "image/png": "[encoded data removed]",
      "text/plain": [
       "<Figure size 640x480 with 2 Axes>"
      ]
     },
     "metadata": {},
     "output_type": "display_data"
    }
   ],
   "source": [
    "reconstructed_image = np.reshape(x, (height_img, width_img))\n",
    "\n",
    "fig, (ax1, ax2) = plt.subplots(1, 2)\n",
    "ax1.imshow(corrupted_image, cmap=plt.get_cmap('gray'))\n",
    "ax1.set_title(\"Corrupted Image\")\n",
    "ax2.imshow(reconstructed_image, cmap=plt.get_cmap('gray'))\n",
    "ax2.set_title(\"Reconstructed Image\")\n",
    "\n",
    "plt.show()"
   ]
  },
  {
   "cell_type": "markdown",
   "metadata": {},
   "source": [
    "4. Discuss the influence of the smoothing parameter $\\alpha$ in\n",
    "   the optimization problem above. What happens for very large\n",
    "   and very low values of $\\alpha$? Finally, discuss the degree\n",
    "   of our polynomial function $\\textbf{P}$. What happens if\n",
    "   we would choose a large degree?"
   ]
  },
  {
   "cell_type": "markdown",
   "metadata": {},
   "source": [
    "### Answer to Problem 1 (4.)"
   ]
  },
  {
   "cell_type": "markdown",
   "metadata": {},
   "source": [
    "When $\\alpha = 0$, the Reconstructed Image $R$ is the exact same as the Corrupted Image. For small $\\alpha$, $R$ is clearly reconstructed with distinct contrast in pixels. As $\\alpha \\to \\infty$, $R$ gets smoother due to the enhanced smoothing properties of $P$. \n",
    "\n",
    "$P$ is a degree 2 polynomial. If we increase the degree $k$, $R$ will exhibit smoother traits. As increasing $k$, we increase the \"kernel size\", allow for long-range dependencies between nodes to have more effects - leading to more smoothing."
   ]
  },
  {
   "cell_type": "markdown",
   "metadata": {},
   "source": [
    "\n",
    "##  Problem 2:  Positive reinforcement  (10 points)\n",
    "$\\def\\J{{J}}$\n",
    "$\\def\\E{{\\mathbb E}}$\n",
    "\n",
    "As discussed in class, reinforcement learning\n",
    "using policy gradient methods is based on maximizing the\n",
    "expected total reward\n",
    "\n",
    "$$ \\J(\\theta) = \\E_\\theta [R(\\tau)],$$\n",
    "\n",
    "where the expectation is over the probability distribution over sequences $\\tau$ through a choice of actions using the policy. This can be rewritten as\n",
    "\n",
    "\\begin{align*}\n",
    "  \\nabla_\\theta \\J(\\theta) & = \\E_\\theta\\left[ R(\\tau) \\nabla_\\theta \\log p(\\tau\\given \\theta) \\right].\n",
    "\\end{align*}\n",
    "\n",
    "Approximating this gradient involves computing $\\nabla_\\theta \\log \\pi_\\theta (a \\given s)$ where $\\pi_\\theta$ is the policy.\n"
   ]
  },
  {
   "cell_type": "markdown",
   "metadata": {},
   "source": [
    "### 2.1 Continuous action space with Gaussian policy\n",
    "\n",
    "Suppose that the action space is continuous\n",
    "and $\\pi_\\theta(a\\given s)$ is a normal density with mean\n",
    "$\\mu_\\theta(s)$ and variance $\\sigma^2_\\theta(s)$, two outputs of\n",
    "a neural network with input $s$ and parameters $\\theta$.\n",
    "\n",
    "\n",
    "Suppose the outputs of the neural network are given by\n",
    "\n",
    "\\begin{align*}\n",
    "  \\mu_\\theta(s) & = \\beta_1^T h(s) \\\\\n",
    "  \\sigma^2_\\theta(s) &= \\text{exp}(\\beta_2^T h(s))\n",
    "\\end{align*}\n",
    "\n",
    "where $h(s)$ is the vector of neurons in the last layer, immediately\n",
    "before the outputs. Derive explicit expressions for\n",
    "$\\nabla_{\\beta_1} \\log \\pi_\\theta(a\\given s)$ and\n",
    "$\\nabla_{\\beta_2} \\log \\pi_\\theta(a\\given s)$."
   ]
  },
  {
   "cell_type": "markdown",
   "metadata": {},
   "source": [
    "### Answer 2.1"
   ]
  },
  {
   "cell_type": "markdown",
   "metadata": {},
   "source": [
    "Express $\\pi_\\theta(a\\given s)$ out:\n",
    "\\begin{align}\n",
    "\\pi_\\theta(a\\given s) &= \\frac{1}{2 \\pi \\sigma^2_\\theta(s)} \\exp \\left( \\frac{1}{2\\sigma^2_\\theta(s)} \\left( a - \\mu_\\theta(s) \\right)^2 \\right) \\\\\n",
    "&= \\frac{1}{\\left( 2 \\pi \\exp(\\beta^T_2 h(s)) \\right)^{1/2}} \\exp \\left( \\frac{1}{2\\exp(\\beta^T_2 h(s))} \\left( a - \\beta^T_1 h(s) \\right)^2 \\right)\n",
    "\\end{align}\n",
    "Express $\\log(\\pi_\\theta(a\\given s))$ out:\n",
    "\\begin{align}\n",
    "\\log(\\pi_\\theta(a\\given s)) &= -\\frac{1}{2}\\log(2\\pi) - \\frac{1}{2}\\beta^T_2 h(s) + \\frac{1}{2\\exp(\\beta^T_2 h(s))} \\left( a - \\beta^T_1 h(s) \\right)^2\n",
    "\\end{align}\n",
    "\n",
    "Solve for $\\nabla_{\\beta_1} \\log \\pi_\\theta(a\\given s)$:\n",
    "\\begin{align}\n",
    "\\nabla_{\\beta_1} \\log \\pi_\\theta(a\\given s) &= - \\frac{1}{2\\exp(\\beta^T_2 h(s))} \\times -2h(s) \\left( a - \\beta^T_1 h(s) \\right) \\\\ \n",
    "&= \\frac{1}{\\exp(\\beta^T_2 h(s))} \\left( a - \\beta^T_1 h(s) \\right) h(s)\n",
    "\\end{align}\n",
    "\n",
    "Solve for $\\nabla_{\\beta_2} \\log \\pi_\\theta(a\\given s)$:\n",
    "\\begin{align}\n",
    "\\nabla_{\\beta_2} \\log \\pi_\\theta(a\\given s) &= - \\frac{1}{2}h(s) - \\frac{1}{2\\exp(\\beta^T_2 h(s))} \\left( a - \\beta^T_1 h(s) \\right)^2 h(s) \\\\ \n",
    "\\end{align}\n",
    "\n",
    "Using the log-likelihood trick, the gradient is depedent on $\\beta_1$ and $\\beta_2$:\n",
    "$$\\nabla_\\theta J(\\theta) = \\mathbb{E}_{\\pi_\\theta} \\left[ \\nabla_\\theta \\log \\pi_\\theta(a \\mid s) \\cdot R \\right]$$\n",
    "\n",
    "The gradients are used to update the parameters as follows:\n",
    "$$\\beta_1 \\leftarrow \\beta_1 + \\eta \\cdot \\mathbb{E}_{\\pi_\\theta} \\left[ \\nabla_{\\beta_1} \\log \\pi_\\theta(a \\mid s) \\cdot R \\right],$$\n",
    "$$\\beta_2 \\leftarrow \\beta_2 + \\eta \\cdot \\mathbb{E}_{\\pi_\\theta} \\left[ \\nabla_{\\beta_2} \\log \\pi_\\theta(a \\mid s) \\cdot R \\right],$$\n",
    "where $\\eta$ is the learning rate."
   ]
  },
  {
   "cell_type": "markdown",
   "metadata": {},
   "source": [
    "### 2.2 Discrete action space with Softmax policy\n",
    "\n",
    "Suppose the action space is discrete with K possible actions, and the policy $\\pi_\\theta(a \\mid s)$ is defined using a softmax function over preferences $u_\\theta(s,a)$:\n",
    "\n",
    "$$\\pi_\\theta(a \\mid s) = \\frac{\\exp(u_\\theta(s,a))}{\\sum_a \\exp(u_\\theta(s,a))},$$\n",
    "where $u_\\theta(s,a) = \\beta^T h(s,a)$, and $h(s,a)$ is a feature vector for state-action pair $(s,a)$. Derive the expression for $\\nabla_\\beta \\log \\pi_\\theta(a \\mid s)$."
   ]
  },
  {
   "cell_type": "markdown",
   "metadata": {},
   "source": [
    "### Answer 2.2"
   ]
  },
  {
   "cell_type": "markdown",
   "metadata": {},
   "source": [
    "Express $\\beta \\log \\pi_\\theta(a \\mid s)$ out:\n",
    "\\begin{align}\n",
    "\\log \\pi_\\theta(a \\mid s) &= u_\\theta(s,a) - \\log \\sum_{a} \\exp(u_\\theta(s,a)) \\\\\n",
    "&= \\beta^T h(s,a) - \\log \\sum_{a} \\exp(\\beta^T h(s,a)).\n",
    "\\end{align}\n",
    "\n",
    "Express $\\nabla_\\beta \\log \\pi_\\theta(a \\mid s)$ out:\n",
    "\\begin{align}\n",
    "\\nabla_\\beta \\log \\pi_\\theta(a \\mid s) &= \\nabla_\\beta \\left( \\beta^T h(s,a) \\right) - \\nabla_\\beta \\log \\sum_{a} \\exp(\\beta^T h(s,a)) \\\\\n",
    "&= h(s,a) - \\frac{\\nabla_\\beta \\sum_{a} \\exp(\\beta^T h(s,a))}{\\sum_{a} \\exp(\\beta^T h(s,a))} \\\\\n",
    "&= h(s,a) - \\frac{\\sum_{a} \\nabla_\\beta \\exp(\\beta^T h(s,a))}{\\sum_{a} \\exp(\\beta^T h(s,a))} \\\\\n",
    "&= h(s,a) - \\frac{\\sum_{a} \\exp(\\beta^T h(s,a)) h(s,a)}{\\sum_{a} \\exp(\\beta^T h(s,a))} \\\\\n",
    "&= h(s,a) - \\sum_{a} \\pi_\\theta(a \\mid s) h(s,a).\n",
    "\\end{align}"
   ]
  },
  {
   "cell_type": "markdown",
   "metadata": {},
   "source": [
    "## Problem 3: Deep Q-Learning for Flappy Bird (25 points)\n",
    "\n",
    "Deep Q-learning was proposed (and patented) by DeepMind and made \n",
    "a big splash when the same deep neural network architecture was shown to be able to surpass\n",
    "human performance on many different Atari games, playing directly from the pixels.\n",
    "In this problem, we will walk you through the implementation of deep Q-learning \n",
    "to learn to play the Flappy Bird game.\n",
    "\n",
    "<img src=\"https://raw.githubusercontent.com/YData123/sds365-sp22/main/assignments/assn4/images/flappy_bird_demp.gif\" width=\"144\" height=\"256\"/>\n",
    "\n",
    "The implementation is based these references:\n",
    "- [DeepLearningFlappyBird](https://github.com/yenchenlin/DeepLearningFlappyBird)\n",
    "- [Deep Q-Learning for Atari Breakout](https://keras.io/examples/rl/deep_q_network_breakout/)\n",
    "\n",
    "We use the `pygame` package to visualize the interaction between the algorithm \n",
    "and the game environment. \n",
    "However, _pygame_ is not well supported by Google Colab; \n",
    "we recommend you to run the code for this problem locally.\n",
    "A window will be popped up that displays\n",
    "the game as it progress in real-time (as for the Cartpole demo from class).\n",
    "\n",
    "This problem is structured as follows:\n",
    "\n",
    "* Load necessary packages\n",
    "* Test the visualization of the game, to make sure everything's working\n",
    "* Process the images to reduce the dimension\n",
    "* Setup the game history buffer \n",
    "* Implement the core Q-learning function\n",
    "* Run the learning algorithm\n",
    "* Interpret the results\n",
    "\n"
   ]
  },
  {
   "cell_type": "markdown",
   "metadata": {},
   "source": [
    "### Introduction"
   ]
  },
  {
   "cell_type": "markdown",
   "metadata": {},
   "source": [
    "The Flappy Bird game is requires a few Python packages. Please install these _as soon as possible_, and notify us of any issues you experience so that we can help. The Python files can also be found on Canvas and in our GitHub repo at https://github.com/YData123/sds365-fa24/tree/main/assignments/assn4 ."
   ]
  },
  {
   "cell_type": "code",
   "execution_count": 1,
   "metadata": {},
   "outputs": [
    {
     "name": "stdout",
     "output_type": "stream",
     "text": [
      "pygame 2.6.1 (SDL 2.28.4, Python 3.10.0)\n",
      "Hello from the pygame community. https://www.pygame.org/contribute.html\n"
     ]
    }
   ],
   "source": [
    "# %pip install pygame\n",
    "# %pip install opencv-python\n",
    "import numpy as np\n",
    "import cv2\n",
    "import wrapped_flappy_bird as flappy_bird\n",
    "from collections import deque\n",
    "import random\n",
    "import tensorflow as tf\n",
    "from tensorflow import keras\n",
    "from tensorflow.keras import layers, initializers"
   ]
  },
  {
   "cell_type": "markdown",
   "metadata": {},
   "source": [
    "### The Flappy Bird environment \n",
    "\n",
    "Interaction with the game environment is carried out through calls of the form\n",
    "\n",
    "`(image, reward, terminal) = game.frame_step(action)`\n",
    "\n",
    "where the meaning of these variables is as follows:\n",
    "\n",
    "- `action`: $\\binom{1}{0}$ for doing nothing, $\\binom{0}{1}$ for \"flapping the bird's wings\"\n",
    "- `image`: the image for the next step of the game, of size $(288, 512, 3)$ with three RGB channels\n",
    "- `reward`: the reward received for taking the action; -1 if an obstacle is hit, 0.1 otherwise. \n",
    "- `terminal`: `True` if an obstacle is hit, otherwise `False`"
   ]
  },
  {
   "cell_type": "markdown",
   "metadata": {},
   "source": [
    "Now let's take a look at the game interface.\n",
    "First, initiate the game:"
   ]
  },
  {
   "cell_type": "code",
   "execution_count": 2,
   "metadata": {},
   "outputs": [
    {
     "name": "stdout",
     "output_type": "stream",
     "text": [
      "shape of image: (288, 512, 3)\n",
      "reward:  0.1\n",
      "terminal:  False\n"
     ]
    }
   ],
   "source": [
    "num_actions = 2\n",
    "\n",
    "# initiate a game\n",
    "game = flappy_bird.GameState()\n",
    "\n",
    "# get the first state by doing nothing\n",
    "do_nothing = np.zeros(num_actions)\n",
    "do_nothing[0] = 1\n",
    "image, reward, terminal = game.frame_step(do_nothing)\n",
    "\n",
    "print('shape of image:', image.shape)\n",
    "print('reward: ', reward)\n",
    "print('terminal: ', terminal)"
   ]
  },
  {
   "cell_type": "markdown",
   "metadata": {},
   "source": [
    "After running the above cells, a window should pop up, and you can watch the game being played in that window. \n",
    "\n",
    "Let's take some random actions and see what happens:"
   ]
  },
  {
   "cell_type": "code",
   "execution_count": 3,
   "metadata": {},
   "outputs": [],
   "source": [
    "for i in range(587):\n",
    "    \n",
    "    # choose a random action \n",
    "    action = np.random.choice(num_actions)\n",
    "    \n",
    "    # create the corresponding one-hot vector\n",
    "    action_vec = np.zeros(num_actions)\n",
    "    action_vec[action] = 1\n",
    "\n",
    "    # take the action and observe the reward and the next state\n",
    "    image, reward, terminal = game.frame_step(action_vec)"
   ]
  },
  {
   "cell_type": "markdown",
   "metadata": {},
   "source": [
    "Are you able to see Flappy moving across the window and crashing into things? Great! If you're \n",
    "having any issues, post to EdD and we'll do our best to help you out.\n",
    "\n",
    "Here is how we can visualize a frame of the game as an image within a cell."
   ]
  },
  {
   "cell_type": "code",
   "execution_count": 4,
   "metadata": {},
   "outputs": [
    {
     "data": {
      "image/png": "[encoded data removed]",
      "text/plain": [
       "<Figure size 640x480 with 1 Axes>"
      ]
     },
     "metadata": {},
     "output_type": "display_data"
    }
   ],
   "source": [
    "# show the image\n",
    "import matplotlib.pyplot as plt\n",
    "plt.imshow(image.transpose([1, 0, 2]))\n",
    "plt.show()\n",
    "plt.close()"
   ]
  },
  {
   "cell_type": "markdown",
   "metadata": {},
   "source": [
    "### Preprocessing the images \n",
    "\n",
    "Alright, next we need to prepocess the images by converting them to grayscale and resizing them to $80\\times 80$ pixels. This will help \n",
    "to reduce the computation, and aid learning. Besides, Flappy is \n",
    "\"color blind.\" (Fun fact: The instructor of this course is also \n",
    "[color vision deficient](https://en.wikipedia.org/wiki/Color_blindness).)\n"
   ]
  },
  {
   "cell_type": "code",
   "execution_count": 6,
   "metadata": {},
   "outputs": [
    {
     "name": "stdout",
     "output_type": "stream",
     "text": [
      "Shape of the transformed image: (288, 512, 3)\n"
     ]
    },
    {
     "data": {
      "image/png": "[encoded data removed]",
      "text/plain": [
       "<Figure size 640x480 with 1 Axes>"
      ]
     },
     "metadata": {},
     "output_type": "display_data"
    }
   ],
   "source": [
    "def resize_gray(frame):\n",
    "    frame = cv2.cvtColor(cv2.resize(frame, (80, 80)), cv2.COLOR_BGR2GRAY)\n",
    "    ret, frame = cv2.threshold(frame, 1, 255, cv2.THRESH_BINARY)\n",
    "    return np.reshape(frame, (80, 80, 1))\n",
    "\n",
    "image_transformed = resize_gray(image)\n",
    "print('Shape of the transformed image:', image.shape)\n",
    "\n",
    "# show the transformed image\n",
    "_ = plt.imshow(image_transformed.transpose((1, 0, 2)), cmap='gray')"
   ]
  },
  {
   "cell_type": "markdown",
   "metadata": {},
   "source": [
    "This shows the preprocessed image for a single frame of\n",
    "the game. In our implementation of Deep Q-Learning, we encode the state by stacking four consecutive frames, resulting in \n",
    "a tensor of shape (80,80,4). \n",
    "\n",
    "Then, given the `current_state`, and a raw image `image_raw`\n",
    "of size $288\\times512\\times3$, we convert \n",
    "the raw image to a $80\\times80\\times 1$ grayscale image using the\n",
    "code in the previous cell. The , \n",
    "we remove the first frame of `current_state` and add \n",
    "the new frame, giving again a stack of images of \n",
    "size (80, 80, 4)."
   ]
  },
  {
   "cell_type": "code",
   "execution_count": 7,
   "metadata": {},
   "outputs": [],
   "source": [
    "def preprocess(image_raw, current_state=None):\n",
    "    # resize and convert to grayscale\n",
    "    image = resize_gray(image_raw)\n",
    "    # stack the frames\n",
    "    if current_state is None:\n",
    "        state = np.concatenate((image, image, image, image), axis=2)\n",
    "    else:\n",
    "        state = np.concatenate((image, current_state[:, :, :3]), axis=2)\n",
    "    return state"
   ]
  },
  {
   "cell_type": "markdown",
   "metadata": {},
   "source": [
    "### 3.1 Explain the game state\n",
    "\n",
    "Why is the state chosen to be a stack of four consecutive\n",
    "frames rather than a single frame? Give an intuitive explanation."
   ]
  },
  {
   "cell_type": "markdown",
   "metadata": {},
   "source": [
    "### Answer 3.1"
   ]
  },
  {
   "cell_type": "markdown",
   "metadata": {},
   "source": [
    "Flappy Bird is inherently a temporal game, where the bird's position at timestep $t$ influences what happens at $t+1$. Feeding the model only a single frame at $t$ prevents it from leveraging this critical temporal relationship. For instance, if the bird is flying at $t$ and an obstacle appears at $t+1$, the model would lack the context needed to predict and act appropriately. Without the prior frames, the model cannot recognize trends like the bird's trajectory or the impending obstacle, leading to failures in decision-making."
   ]
  },
  {
   "cell_type": "markdown",
   "metadata": {},
   "source": [
    "###  Constructing the neural network"
   ]
  },
  {
   "cell_type": "markdown",
   "metadata": {},
   "source": [
    "Now we are ready to construct the neural network for approximating the Q function. Recall that, given input $s$ which is of size $80\\times80\\times4$ due to the \n",
    "previous preprocessing, the output of the network should be of size 2, corresponding to the values of $Q(s,a_1)$ and $Q(s, a_2)$ respectively."
   ]
  },
  {
   "cell_type": "markdown",
   "metadata": {},
   "source": [
    "Here is the summary of the model we'd like to build:\n",
    "\n",
    "![Neural network](https://raw.githubusercontent.com/YData123/sds365-sp22/main/assignments/assn4/images/q_model.png)"
   ]
  },
  {
   "cell_type": "markdown",
   "metadata": {},
   "source": [
    "### 3.2 Initialize the network\n",
    "\n",
    "Complete the code in the next cell so that your model architecture matches that in the above picture. Here we specify the initialization of the weights by using `keras.initializers`.\n",
    "Note that we haven't talked about the `strides` argument for CNNs; \n",
    "you can read about stride here: [https://machinelearningmastery.com/padding-and-stride-for-convolutional-neural-networks/](https://machinelearningmastery.com/padding-and-stride-for-convolutional-neural-networks/). It's not important to understand this in detail, you just need to choose the number and sizes of the filters to get the shapes to match the specification.\n"
   ]
  },
  {
   "cell_type": "code",
   "execution_count": 8,
   "metadata": {},
   "outputs": [],
   "source": [
    "from tensorflow.keras import initializers\n",
    "def create_q_model():\n",
    "    state = layers.Input(shape=(80, 80, 4,))\n",
    "\n",
    "    layer1 = layers.Conv2D(filters=32, kernel_size=8, strides=4, activation=\"relu\",\n",
    "                           kernel_initializer=initializers.TruncatedNormal(mean=0., stddev=0.01),\n",
    "                           bias_initializer=initializers.Constant(0.01))(state)\n",
    "    layer2 = layers.MaxPool2D(2, strides=2, padding=\"SAME\")(layer1)\n",
    "    layer3 = layers.Conv2D(filters=64, kernel_size=4, strides=2, activation=\"relu\", \n",
    "                           kernel_initializer=initializers.TruncatedNormal(mean=0., stddev=0.01),\n",
    "                           bias_initializer=initializers.Constant(0.01))(layer2)\n",
    "    layer4 = layers.Flatten()(layer3)\n",
    "    q_value = layers.Dense(units=2, activation=\"linear\", \n",
    "                           kernel_initializer=initializers.TruncatedNormal(mean=0., stddev=0.01),\n",
    "                           bias_initializer=initializers.Constant(0.01))(layer4)\n",
    "\n",
    "    return keras.Model(inputs=state, outputs=q_value)"
   ]
  },
  {
   "cell_type": "markdown",
   "metadata": {},
   "source": [
    "Plot the model summary to make sure that the network is the same as expected. "
   ]
  },
  {
   "cell_type": "code",
   "execution_count": 10,
   "metadata": {},
   "outputs": [
    {
     "name": "stdout",
     "output_type": "stream",
     "text": [
      "Model: \"model_1\"\n",
      "_________________________________________________________________\n",
      " Layer (type)                Output Shape              Param #   \n",
      "=================================================================\n",
      " input_2 (InputLayer)        [(None, 80, 80, 4)]       0         \n",
      "                                                                 \n",
      " conv2d_2 (Conv2D)           (None, 19, 19, 32)        8224      \n",
      "                                                                 \n",
      " max_pooling2d_1 (MaxPooling  (None, 10, 10, 32)       0         \n",
      " 2D)                                                             \n",
      "                                                                 \n",
      " conv2d_3 (Conv2D)           (None, 4, 4, 64)          32832     \n",
      "                                                                 \n",
      " flatten_1 (Flatten)         (None, 1024)              0         \n",
      "                                                                 \n",
      " dense_1 (Dense)             (None, 2)                 2050      \n",
      "                                                                 \n",
      "=================================================================\n",
      "Total params: 43,106\n",
      "Trainable params: 43,106\n",
      "Non-trainable params: 0\n",
      "_________________________________________________________________\n",
      "None\n"
     ]
    }
   ],
   "source": [
    "model = create_q_model()\n",
    "print(model.summary())"
   ]
  },
  {
   "cell_type": "markdown",
   "metadata": {},
   "source": [
    "### Deep Q-learning\n",
    "\n",
    "We're now ready to implement the Q-learning algorithm.\n",
    "There are some subtle details in the implementation that you need to sort out. First, recall that the update rule for Q learning is\n",
    "\n",
    "$$Q(s,a) \\leftarrow Q(s,a) + \\alpha (r(s,a) + \\gamma\\cdot \\max_{a'} Q(\\text{next}(s,a), a') - Q(s,a))$$\n",
    "\n",
    "where $\\gamma$ is the discount factor and $\\alpha$ can be viewed as the step size or learning rate for gradient ascent.\n",
    "\n",
    "We'll set these as follows:"
   ]
  },
  {
   "cell_type": "code",
   "execution_count": 11,
   "metadata": {},
   "outputs": [],
   "source": [
    "gamma = 0.99            # decay rate of past observations\n",
    "step_size = 1e-4        # step size"
   ]
  },
  {
   "cell_type": "markdown",
   "metadata": {},
   "source": [
    "### Estimation with experience replay\n",
    "\n",
    "At the beginning of training, we spend 10,000 steps taking random \n",
    "actions, as a means of observing the environment. \n",
    "\n",
    "We build a replay memory of length 10,000 steps, and every time we update the weights of the network, we sample a batch of size 32 and perform a Q-learning update on this batch.\n",
    "\n",
    "After we have collected 10,000 steps of new data, we discard \n",
    "the old data, and replace it with the new \"experiences.\"\n"
   ]
  },
  {
   "cell_type": "code",
   "execution_count": 14,
   "metadata": {},
   "outputs": [],
   "source": [
    "observe = 10000            # timesteps to observe before training\n",
    "replay_memory = 10000      # number of previous transitions to remember\n",
    "batch_size = 32            # size of each batch"
   ]
  },
  {
   "cell_type": "markdown",
   "metadata": {},
   "source": [
    "\n",
    "### 3.3 Justify the data collection\n",
    "\n",
    "Why does it make sense to maintain the replay memory of a fixed size \n",
    "instead of including all of the historical data?\n"
   ]
  },
  {
   "cell_type": "markdown",
   "metadata": {},
   "source": [
    "### Answer 3.3"
   ]
  },
  {
   "cell_type": "markdown",
   "metadata": {},
   "source": [
    "From a practical standpoint, limiting the replay memory prevents excessive memory usage and computational burden that would arise from storing and processing all historical data. In other words, a fixed memory size ensures that the training process remains scalable and computationally feasible.\n",
    "\n",
    "From a learning standpoint, older data may no longer represent the current policy or the agent's understanding of the environment. Including excessively outdated data could introduce bias and reduce the relevance of sampled experiences, thereby hindering the learning process. This mimics humans, where we often weigh recent intertactions over past events (except for trauma) when learning and growing."
   ]
  },
  {
   "cell_type": "markdown",
   "metadata": {},
   "source": [
    "### Exploration vs exploitation\n",
    "\n",
    "When performing Q-learning, we face the tradeoff between exploration and \n",
    "exploitation.  To encourage exploration, a simple strategy is to take a random action at each step with certain probability.\n",
    "\n",
    "More precisely, for each time step $t$ and state $s_t$, with probability $\\epsilon$, the algorithm takes a random action (wing flap or do nothing), and with probability $1-\\epsilon$ the \n",
    "algorithm takes a greedy action according to $a_t = \\arg\\max_{a} Q_\\theta(s_t,a)$. Here $\\theta$ refers to the parameters of our CNN."
   ]
  },
  {
   "cell_type": "code",
   "execution_count": 15,
   "metadata": {},
   "outputs": [],
   "source": [
    "# value of epsilon\n",
    "epsilon = 0.05"
   ]
  },
  {
   "cell_type": "markdown",
   "metadata": {},
   "source": [
    "### 3.4 Complete the Q-learning algorithm"
   ]
  },
  {
   "cell_type": "markdown",
   "metadata": {},
   "source": [
    "Next you will need to complete the Q-learning algorithm by filling in the missing code in the following function.\n",
    "The missing parts include\n",
    "\n",
    "- Taking a greedy action\n",
    "- Given a batch of samples $\\{(s_t, a_t, r_t, s_{t+1}, \\text{terminal}_t)\\}_{t\\in B}$, computing the corresponding $Q_\\theta(s_t, a_t)$.\n",
    "- Given a batch of samples $\\{(s_t, a_t, r_t, s_{t+1}, \\text{terminal}_t)\\}_{t\\in B}$, computing the corresponding updated Q-values \n",
    "  \n",
    "$$\\hat{y}(s_t,a_t) = \\begin{cases}\n",
    "r_t + \\gamma\\, \\max_{a} Q_\\theta(s_{t+1}, a), & \\text{if } \\text{terminal}_t=0,\\\\\n",
    "r_t, & \\text{otherwise}.\n",
    "\\end{cases}$$\n",
    "\n",
    "Then, the mean squared error loss for the batch is\n",
    "\n",
    "$$\\frac{1}{|B|} \\sum_{t\\in B} (\\hat y(s_t, a_t) - Q_\\theta(s_t, a_t))^2.$$\n",
    "\n"
   ]
  },
  {
   "cell_type": "code",
   "execution_count": 34,
   "metadata": {},
   "outputs": [],
   "source": [
    "def dql_flappy_bird(model, optimizer, loss_function):\n",
    "\n",
    "    # initiate a game\n",
    "    game = flappy_bird.GameState()\n",
    "\n",
    "    # store the previous state, action and transitions\n",
    "    history_data = deque()\n",
    "\n",
    "    # get the first observation by doing nothing and preprocess the image\n",
    "    do_nothing = np.zeros(num_actions)\n",
    "    do_nothing[0] = 1\n",
    "    image, reward, terminal = game.frame_step(do_nothing)\n",
    "\n",
    "    # preprocess to get the state\n",
    "    current_state = preprocess(image_raw=image)\n",
    "    \n",
    "    # training\n",
    "    t = 0\n",
    "\n",
    "    while t < 50000:\n",
    "        if epsilon > np.random.rand(1)[0]:\n",
    "            # random action\n",
    "            action = np.random.choice(num_actions)\n",
    "        else:\n",
    "            # compute the Q function\n",
    "            current_state_tensor = tf.convert_to_tensor(current_state)\n",
    "            current_state_tensor = tf.expand_dims(current_state_tensor, 0)\n",
    "            q_value = model(current_state_tensor, training=False)\n",
    "            \n",
    "            # greedy action\n",
    "            action = tf.argmax(q_value[0]).numpy()\n",
    "\n",
    "        # take the action and observe the reward and the next state\n",
    "        action_vec = np.zeros([num_actions])\n",
    "        action_vec[action] = 1\n",
    "        image_raw, reward, terminal = game.frame_step(action_vec)\n",
    "        next_state = preprocess(current_state=current_state, \n",
    "                                image_raw=image_raw)\n",
    "        \n",
    "        # store the observation\n",
    "        history_data.append((current_state, action, reward, next_state, \n",
    "                            terminal))\n",
    "        if len(history_data) > replay_memory:\n",
    "            history_data.popleft()  # discard old data\n",
    "\n",
    "        # train if done observing\n",
    "        if t > observe:\n",
    "\n",
    "            # sample a batch\n",
    "            batch = random.sample(history_data, batch_size)\n",
    "            state_sample = np.array([d[0] for d in batch])\n",
    "            action_sample = np.array([d[1] for d in batch])\n",
    "            reward_sample = np.array([d[2] for d in batch])\n",
    "            state_next_sample = np.array([d[3] for d in batch])\n",
    "            terminal_sample = np.array([d[4] for d in batch])\n",
    "\n",
    "            # compute the updated Q-values for the samples\n",
    "            # Compute predicted Q-values in evaluation mode\n",
    "            next_q_value = model(tf.convert_to_tensor(state_next_sample), training=False)\n",
    "            # Choose max Q-values\n",
    "            max_next_q_value = tf.reduce_max(next_q_value, axis=1)\n",
    "            # Apply Bellman Equation where 1 - terminal_sample = 0 if terminal_sample\n",
    "            updated_q_value = reward_sample + (1 - terminal_sample) * gamma * max_next_q_value\n",
    "\n",
    "            # train the model on the states and updated Q-values\n",
    "            with tf.GradientTape() as tape:\n",
    "                # compute the current Q-values for the samples\n",
    "                # Compute predicted Q-values in training model\n",
    "                current_q_value = model(tf.convert_to_tensor(state_sample))\n",
    "                # Get the Q-values of the current action\n",
    "                indices = tf.stack([tf.range(batch_size, dtype=tf.int64), tf.convert_to_tensor(action_sample, dtype=tf.int64)], axis=1)\n",
    "                current_q_value = tf.gather_nd(current_q_value, indices)\n",
    "\n",
    "                # compute the loss \n",
    "                # (i.e., the current q value (LHS) should be as close as possible to the future q value (RHS))\n",
    "                loss = loss_function(updated_q_value, current_q_value)\n",
    "\n",
    "            # backpropagation\n",
    "            grads = tape.gradient(loss, model.trainable_variables)\n",
    "            optimizer.apply_gradients(zip(grads, model.trainable_variables))\n",
    "        else:\n",
    "            loss = 0\n",
    "\n",
    "        # update current state and counter\n",
    "        current_state = next_state\n",
    "        t += 1\n",
    "\n",
    "        # print info every 500 steps\n",
    "        if t % 500 == 0:\n",
    "            print(f\"STEP {t} | PHASE {'observe' if t<=observe else 'train'}\", \n",
    "                  f\"| ACTION {action} | REWARD {reward} | LOSS {loss}\")"
   ]
  },
  {
   "cell_type": "markdown",
   "metadata": {},
   "source": [
    "You're now ready to play the game! Just run the cell below; do not change the code."
   ]
  },
  {
   "cell_type": "code",
   "execution_count": 35,
   "metadata": {},
   "outputs": [],
   "source": [
    "def playgame(start_from_ckpt=False, ckpt_path=None):\n",
    "\n",
    "    #! DO NOT change the random seed !\n",
    "    np.random.seed(4)\n",
    "\n",
    "    if start_from_ckpt:\n",
    "        # if you want to start from a checkpoint\n",
    "        model = keras.models.load_model('ckpt_path')\n",
    "    else:\n",
    "        model = create_q_model()\n",
    "\n",
    "    # specify the optimizer and loss function\n",
    "    optimizer = keras.optimizers.Adam(learning_rate=step_size, clipnorm=1.0)\n",
    "    loss_function = keras.losses.MeanSquaredError()\n",
    "\n",
    "    # play the game\n",
    "    dql_flappy_bird(model=model, optimizer=optimizer, loss_function=loss_function)"
   ]
  },
  {
   "cell_type": "code",
   "execution_count": 36,
   "metadata": {},
   "outputs": [
    {
     "name": "stdout",
     "output_type": "stream",
     "text": [
      "STEP 500 | PHASE observe | ACTION 1 | REWARD 0.1 | LOSS 0\n",
      "STEP 1000 | PHASE observe | ACTION 1 | REWARD 0.1 | LOSS 0\n",
      "STEP 1500 | PHASE observe | ACTION 1 | REWARD 0.1 | LOSS 0\n",
      "STEP 2000 | PHASE observe | ACTION 1 | REWARD 0.1 | LOSS 0\n",
      "STEP 2500 | PHASE observe | ACTION 1 | REWARD 0.1 | LOSS 0\n",
      "STEP 3000 | PHASE observe | ACTION 1 | REWARD 0.1 | LOSS 0\n",
      "STEP 3500 | PHASE observe | ACTION 1 | REWARD 0.1 | LOSS 0\n",
      "STEP 4000 | PHASE observe | ACTION 1 | REWARD 0.1 | LOSS 0\n",
      "STEP 4500 | PHASE observe | ACTION 1 | REWARD 0.1 | LOSS 0\n",
      "STEP 5000 | PHASE observe | ACTION 1 | REWARD 0.1 | LOSS 0\n",
      "STEP 5500 | PHASE observe | ACTION 1 | REWARD 0.1 | LOSS 0\n",
      "STEP 6000 | PHASE observe | ACTION 1 | REWARD 0.1 | LOSS 0\n",
      "STEP 6500 | PHASE observe | ACTION 1 | REWARD 0.1 | LOSS 0\n",
      "STEP 7000 | PHASE observe | ACTION 0 | REWARD 0.1 | LOSS 0\n",
      "STEP 7500 | PHASE observe | ACTION 1 | REWARD 0.1 | LOSS 0\n",
      "STEP 8000 | PHASE observe | ACTION 1 | REWARD 0.1 | LOSS 0\n",
      "STEP 8500 | PHASE observe | ACTION 1 | REWARD 0.1 | LOSS 0\n",
      "STEP 9000 | PHASE observe | ACTION 1 | REWARD 0.1 | LOSS 0\n",
      "STEP 9500 | PHASE observe | ACTION 1 | REWARD 0.1 | LOSS 0\n",
      "STEP 10000 | PHASE observe | ACTION 1 | REWARD 0.1 | LOSS 0\n",
      "STEP 10500 | PHASE train | ACTION 1 | REWARD 0.1 | LOSS 0.28295496106147766\n",
      "STEP 11000 | PHASE train | ACTION 1 | REWARD 0.1 | LOSS 0.015218841843307018\n",
      "STEP 11500 | PHASE train | ACTION 0 | REWARD 0.1 | LOSS 0.009220397099852562\n",
      "STEP 12000 | PHASE train | ACTION 1 | REWARD 0.1 | LOSS 0.00467890128493309\n",
      "STEP 12500 | PHASE train | ACTION 1 | REWARD -1 | LOSS 0.006331755314022303\n",
      "STEP 13000 | PHASE train | ACTION 1 | REWARD -1 | LOSS 0.008049175143241882\n",
      "STEP 13500 | PHASE train | ACTION 0 | REWARD -1 | LOSS 0.009237512946128845\n",
      "STEP 14000 | PHASE train | ACTION 1 | REWARD -1 | LOSS 0.0023635243996977806\n",
      "STEP 14500 | PHASE train | ACTION 1 | REWARD -1 | LOSS 0.017527198418974876\n",
      "STEP 15000 | PHASE train | ACTION 0 | REWARD -1 | LOSS 0.002077145269140601\n",
      "STEP 15500 | PHASE train | ACTION 0 | REWARD -1 | LOSS 0.0022251643240451813\n",
      "STEP 16000 | PHASE train | ACTION 0 | REWARD 0.1 | LOSS 0.044338420033454895\n",
      "STEP 16500 | PHASE train | ACTION 1 | REWARD 0.1 | LOSS 0.0010258664842694998\n",
      "STEP 17000 | PHASE train | ACTION 1 | REWARD 0.1 | LOSS 0.0011961793061345816\n",
      "STEP 17500 | PHASE train | ACTION 0 | REWARD 0.1 | LOSS 6.2455644607543945\n",
      "STEP 18000 | PHASE train | ACTION 0 | REWARD 0.1 | LOSS 0.01515561155974865\n",
      "STEP 18500 | PHASE train | ACTION 1 | REWARD 0.1 | LOSS 0.0033726878464221954\n",
      "STEP 19000 | PHASE train | ACTION 0 | REWARD 0.1 | LOSS 0.001314115826971829\n",
      "STEP 19500 | PHASE train | ACTION 0 | REWARD 0.1 | LOSS 0.0012079196749255061\n",
      "STEP 20000 | PHASE train | ACTION 0 | REWARD 0.1 | LOSS 0.010786657221615314\n",
      "STEP 20500 | PHASE train | ACTION 0 | REWARD 0.1 | LOSS 0.0008329328848049045\n",
      "STEP 21000 | PHASE train | ACTION 1 | REWARD 0.1 | LOSS 0.0037328407634049654\n",
      "STEP 21500 | PHASE train | ACTION 1 | REWARD 0.1 | LOSS 0.001217487035319209\n",
      "STEP 22000 | PHASE train | ACTION 0 | REWARD 0.1 | LOSS 0.038400426506996155\n",
      "STEP 22500 | PHASE train | ACTION 0 | REWARD 0.1 | LOSS 0.002085252432152629\n",
      "STEP 23000 | PHASE train | ACTION 0 | REWARD 0.1 | LOSS 0.007639157585799694\n",
      "STEP 23500 | PHASE train | ACTION 0 | REWARD 0.1 | LOSS 0.011697839014232159\n",
      "STEP 24000 | PHASE train | ACTION 0 | REWARD 0.1 | LOSS 0.006360439117997885\n",
      "STEP 24500 | PHASE train | ACTION 1 | REWARD 0.1 | LOSS 0.031184522435069084\n",
      "STEP 25000 | PHASE train | ACTION 0 | REWARD 0.1 | LOSS 0.00884314440190792\n",
      "STEP 25500 | PHASE train | ACTION 0 | REWARD 0.1 | LOSS 0.02862236276268959\n",
      "STEP 26000 | PHASE train | ACTION 0 | REWARD 0.1 | LOSS 0.011431178078055382\n",
      "STEP 26500 | PHASE train | ACTION 0 | REWARD 0.1 | LOSS 0.07754367589950562\n",
      "STEP 27000 | PHASE train | ACTION 0 | REWARD 0.1 | LOSS 0.030263269320130348\n",
      "STEP 27500 | PHASE train | ACTION 0 | REWARD 0.1 | LOSS 0.037599116563797\n",
      "STEP 28000 | PHASE train | ACTION 0 | REWARD 0.1 | LOSS 0.01077241636812687\n",
      "STEP 28500 | PHASE train | ACTION 0 | REWARD 0.1 | LOSS 0.038344718515872955\n",
      "STEP 29000 | PHASE train | ACTION 1 | REWARD 0.1 | LOSS 0.03754967451095581\n",
      "STEP 29500 | PHASE train | ACTION 0 | REWARD 0.1 | LOSS 0.023081833496689796\n",
      "STEP 30000 | PHASE train | ACTION 1 | REWARD 0.1 | LOSS 0.03964317589998245\n",
      "STEP 30500 | PHASE train | ACTION 0 | REWARD 0.1 | LOSS 0.07027740776538849\n"
     ]
    },
    {
     "name": "stderr",
     "output_type": "stream",
     "text": [
      "\n",
      "KeyboardInterrupt\n",
      "\n"
     ]
    }
   ],
   "source": [
    "playgame()"
   ]
  },
  {
   "cell_type": "markdown",
   "metadata": {},
   "source": [
    "### 3.5 Describe the training"
   ]
  },
  {
   "cell_type": "markdown",
   "metadata": {},
   "source": [
    "Describe what you see by answering the following questions:\n",
    "\n",
    "- In the early stage of training (within 2,000 steps in the *explore* phase), \n",
    "  describe the behavior of the Flappy Bird. What do you think is the greedy policy \n",
    "  given by the estimation of the Q-function in this stage?\n",
    "- Describe what you see after roughly 5,000 training steps. \n",
    "  Do you see any improvement?\n",
    "  In particular, compare Flappy's behavior with their behavior in the early stages of \n",
    "  training.\n",
    "- Explain why the performance has improved, by relating to the model \n",
    "  design such as the replay memory and the exploration."
   ]
  },
  {
   "cell_type": "markdown",
   "metadata": {},
   "source": [
    "### Answer 3.5"
   ]
  },
  {
   "cell_type": "markdown",
   "metadata": {},
   "source": [
    "1. At this stage, Flappy Bird exhibits a behavior of flapping continuously to fly to the top until it hits a barrier. Occasionally, the bird seems to pause its flapping briefly, allowing it to descend. This behavior aligns with the greedy policy, where the Q-function estimates that flapping prevents the bird from hitting the ground, which results in a small positive reward (e.g., 0.1) for staying alive. Since the Q-function is still in the early stages of learning, the policy predominantly favors actions that avoid immediate termination (flapping) without yet optimizing for long-term survival.\n",
    "\n",
    "2. By this point, the bird's behavior shows noticeable improvement. Instead of flapping indiscriminately to the top, the bird now demonstrates a more controlled pattern of flapping, pausing at times to descend. This change occurs because the agent has experienced episodes where choosing not to flap allowed it to navigate partially through the tubes, resulting in higher rewards. Compared to the early stages, the bird’s actions now reflect a understanding of how to survive longer. However, at this stage it has not passed through a tube yet. \n",
    "\n",
    "3. During exploration, the agent randomly takes actions (e.g., choosing \"no flap\" or action 0) that it might not otherwise select based on its current policy. This randomness allows the agent to discover that descending at specific times can lead to higher rewards, even if it initially seems counterintuitive. Replay memory stores past experiences (state, action, reward, next state) for training. This mechanism allows the model to learn from a variety of scenarios, including rare successful actions, rather than only relying on the most recent transitions. As training progresses, older experiences where the bird immediately flew to the top are replaced by more recent, informative episodes, such as those where the bird navigated closer to passing through the tubes. This prioritization helps the model focus on learning effective strategies for longer survival. Interestingly, we observe a spike in the loss function (e.g., at Step 17500), highlighting that the model is actively learning. This indicates that the model has identified passing through the tube as yielding unexpectedly higher rewards in the Q-value function. As a result, it adjusts its policy, recognizing that strategic flapping with pauses to navigate through the tube is more rewarding than simply flying to the top."
   ]
  },
  {
   "cell_type": "markdown",
   "metadata": {},
   "source": [
    "It takes a long time to fully train the network, so you're not required to \n",
    "complete the training. Here's a [video](https://www.youtube.com/watch?v=THhUXIhjkCM) showing the performance of a well trained DQN."
   ]
  }
 ],
 "metadata": {
  "kernelspec": {
   "display_name": "sds365",
   "language": "python",
   "name": "sds365"
  },
  "language_info": {
   "codemirror_mode": {
    "name": "ipython",
    "version": 3
   },
   "file_extension": ".py",
   "mimetype": "text/x-python",
   "name": "python",
   "nbconvert_exporter": "python",
   "pygments_lexer": "ipython3",
   "version": "3.10.0"
  }
 },
 "nbformat": 4,
 "nbformat_minor": 4
}
